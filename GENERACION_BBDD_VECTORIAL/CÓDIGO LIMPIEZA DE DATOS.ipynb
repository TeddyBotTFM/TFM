{
 "cells": [
  {
   "cell_type": "markdown",
   "id": "9f753ca3-751d-4292-a777-fc7b901e4adc",
   "metadata": {},
   "source": [
    "# LIMPIEZA DE LA BASE DE DATOS"
   ]
  },
  {
   "cell_type": "code",
   "execution_count": 2,
   "id": "48e68935-ff07-4382-94e5-bf70edfc8652",
   "metadata": {},
   "outputs": [
    {
     "name": "stderr",
     "output_type": "stream",
     "text": [
      "[nltk_data] Downloading package stopwords to\n",
      "[nltk_data]     C:\\Users\\Usuario1\\AppData\\Roaming\\nltk_data...\n",
      "[nltk_data]   Package stopwords is already up-to-date!\n",
      "[nltk_data] Downloading package punkt to\n",
      "[nltk_data]     C:\\Users\\Usuario1\\AppData\\Roaming\\nltk_data...\n",
      "[nltk_data]   Package punkt is already up-to-date!\n"
     ]
    },
    {
     "name": "stdout",
     "output_type": "stream",
     "text": [
      "\u001b[38;5;2m✔ Download and installation successful\u001b[0m\n",
      "You can now load the package via spacy.load('en_core_web_sm')\n",
      "\u001b[38;5;3m⚠ Restart to reload dependencies\u001b[0m\n",
      "If you are in a Jupyter or Colab notebook, you may need to restart Python in\n",
      "order to load all the package's dependencies. You can do this by selecting the\n",
      "'Restart kernel' or 'Restart runtime' option.\n"
     ]
    }
   ],
   "source": [
    "import pandas as pd\n",
    "import json\n",
    "from spellchecker import SpellChecker\n",
    "import sys\n",
    "import nltk\n",
    "nltk.download('stopwords')\n",
    "nltk.download('punkt')\n",
    "from wordcloud import WordCloud\n",
    "from nltk.corpus import stopwords\n",
    "import re\n",
    "from tqdm import tqdm\n",
    "from collections import Counter\n",
    "from nltk.tokenize import TweetTokenizer\n",
    "import spacy\n",
    "spacy.cli.download('en_core_web_sm')"
   ]
  },
  {
   "cell_type": "code",
   "execution_count": 3,
   "id": "2624be66",
   "metadata": {},
   "outputs": [],
   "source": [
    "en_stopwords = set(stopwords.words('english'))"
   ]
  },
  {
   "cell_type": "code",
   "execution_count": 4,
   "id": "5f7d247f",
   "metadata": {},
   "outputs": [],
   "source": [
    "# Cargar el diccionario de contracciones desde el archivo JSON\n",
    "with open('DATOS/contractions.json', 'r') as file:\n",
    "    contractions_dict = json.load(file)\n",
    "\n",
    "# Expresión regular para encontrar contracciones\n",
    "contractions_re = re.compile('(%s)' % '|'.join(contractions_dict.keys()))\n",
    "\n",
    "## Inicializar el corrector ortográfico\n",
    "spell = SpellChecker()"
   ]
  },
  {
   "cell_type": "code",
   "execution_count": 5,
   "id": "a60de5c2",
   "metadata": {},
   "outputs": [],
   "source": [
    "df = pd.read_csv(\"DATOS/BBDD_combinada_Paula_Maria_Laura_Paula_Ines_Gabi_Marcos.csv\", encoding='ISO-8859-1')"
   ]
  },
  {
   "cell_type": "code",
   "execution_count": 6,
   "id": "2ba5cc89-65e1-4319-b0f2-b628b8f88dc6",
   "metadata": {},
   "outputs": [],
   "source": [
    "df_sinstopwords = df\n",
    "df_constopwords = df"
   ]
  },
  {
   "cell_type": "code",
   "execution_count": 7,
   "id": "786ddbc5",
   "metadata": {},
   "outputs": [
    {
     "name": "stdout",
     "output_type": "stream",
     "text": [
      "Existen 0 documentos duplicados en la columna de 'Titulo'\n",
      "Existen 1 documentos duplicados en la columna de 'Ponente'\n",
      "Existen 0 documentos duplicados en la columna de 'Contenido'\n",
      "Hay 0 valores vacíos en la columna Titulo, 0 valores vacíos en la columna Ponente y 0 valores vacíos en la columna Contenido\n"
     ]
    }
   ],
   "source": [
    "print(\"Existen {} documentos duplicados en la columna de 'Titulo'\".format(df.duplicated(subset=['Titulo']).sum()))\n",
    "print(\"Existen {} documentos duplicados en la columna de 'Ponente'\".format(df.duplicated(subset=['Ponente']).sum()))\n",
    "print(\"Existen {} documentos duplicados en la columna de 'Contenido'\".format(df.duplicated(subset=['Contenido']).sum()))\n",
    "print(\"Hay {} valores vacíos en la columna Titulo, {} valores vacíos en la columna Ponente y {} valores vacíos en la columna Contenido\".format(\n",
    "    df.isnull().sum()[\"Titulo\"],\n",
    "    df.isnull().sum()[\"Ponente\"],\n",
    "    df.isnull().sum()['Contenido']))"
   ]
  },
  {
   "cell_type": "code",
   "execution_count": 8,
   "id": "358228d0",
   "metadata": {},
   "outputs": [],
   "source": [
    "#Eliminar espacios\n",
    "def eliminar_espacios(text):\n",
    "    return  \" \".join(text.split())\n",
    "\n",
    "#To lower\n",
    "def texto_to_lower(text):\n",
    "    return text.lower()\n",
    "\n",
    "#Eliminar Stopwords\n",
    "nlp = spacy.load('en_core_web_sm', disable=['parser', 'ner'])\n",
    "\n",
    "def eliminar_stopwords(texto):\n",
    "    doc = nlp(texto)\n",
    "\n",
    "    tokens_filtrados = [token.text for token in doc if token.text.lower() not in en_stopwords and token.is_alpha]\n",
    "\n",
    "    texto_procesado = ' '.join(tokens_filtrados)\n",
    "\n",
    "    return texto_procesado\n",
    "\n",
    "#Contracciones. \n",
    "def expand_contractions(text, contractions_dict=contractions_dict):\n",
    "    def replace(match):\n",
    "        return contractions_dict[match.group(0)]\n",
    "    return contractions_re.sub(replace, text)\n",
    "\n",
    "#Corrección ortográfica. \n",
    "def correct_text(text):\n",
    "    corrected_text = []\n",
    "    for word in text.split():\n",
    "        corrected_word = spell.correction(word)\n",
    "        # Si corrected_word es None, usar la palabra original\n",
    "        if corrected_word is None:\n",
    "            corrected_word = word\n",
    "        corrected_text.append(corrected_word)\n",
    "    return ' '.join(corrected_text)"
   ]
  },
  {
   "cell_type": "markdown",
   "id": "bdf7eb92-0f2c-4bc9-9809-7aca39994a25",
   "metadata": {},
   "source": [
    "## LIMPIEZA QUITANDO STOPWORDS"
   ]
  },
  {
   "cell_type": "code",
   "execution_count": 10,
   "id": "de91a6db",
   "metadata": {},
   "outputs": [
    {
     "name": "stderr",
     "output_type": "stream",
     "text": [
      "100%|██████████████████████████████████████████████████████████████████████████████████| 70/70 [27:38<00:00, 23.69s/it]\n"
     ]
    }
   ],
   "source": [
    "tqdm.pandas()\n",
    "\n",
    "df_sinstopwords['Contenido_normalizado'] = df_sinstopwords['Contenido'].progress_apply(lambda x: eliminar_stopwords(texto_to_lower(correct_text(expand_contractions(eliminar_espacios(x))))))\n"
   ]
  },
  {
   "cell_type": "code",
   "execution_count": 11,
   "id": "b26eea04",
   "metadata": {},
   "outputs": [
    {
     "data": {
      "text/html": [
       "<div>\n",
       "<style scoped>\n",
       "    .dataframe tbody tr th:only-of-type {\n",
       "        vertical-align: middle;\n",
       "    }\n",
       "\n",
       "    .dataframe tbody tr th {\n",
       "        vertical-align: top;\n",
       "    }\n",
       "\n",
       "    .dataframe thead th {\n",
       "        text-align: right;\n",
       "    }\n",
       "</style>\n",
       "<table border=\"1\" class=\"dataframe\">\n",
       "  <thead>\n",
       "    <tr style=\"text-align: right;\">\n",
       "      <th></th>\n",
       "      <th>Titulo</th>\n",
       "      <th>Ponente</th>\n",
       "      <th>Contenido</th>\n",
       "      <th>Contenido_normalizado</th>\n",
       "    </tr>\n",
       "  </thead>\n",
       "  <tbody>\n",
       "    <tr>\n",
       "      <th>0</th>\n",
       "      <td>The power of the vulnerability</td>\n",
       "      <td>Brené Brown</td>\n",
       "      <td>So, I'll start with this: a couple years ago, ...</td>\n",
       "      <td>start couple years ago event planner called go...</td>\n",
       "    </tr>\n",
       "    <tr>\n",
       "      <th>1</th>\n",
       "      <td>A new life for mobile phones</td>\n",
       "      <td>Rajeevan Amirtharajah</td>\n",
       "      <td>okay so today I'm gonna talk about  something ...</td>\n",
       "      <td>okay today ism gon na talk something probably ...</td>\n",
       "    </tr>\n",
       "    <tr>\n",
       "      <th>2</th>\n",
       "      <td>Strange answer to the psychopath</td>\n",
       "      <td>Jon Ronson</td>\n",
       "      <td>The story starts: I was at a friend's house, a...</td>\n",
       "      <td>story starts friend house shelf copy dam manua...</td>\n",
       "    </tr>\n",
       "    <tr>\n",
       "      <th>3</th>\n",
       "      <td>Media and children</td>\n",
       "      <td>Dimitri Christakis</td>\n",
       "      <td>i'm a pediatrician a researcher and a parent a...</td>\n",
       "      <td>pediatrician researcher parent became things o...</td>\n",
       "    </tr>\n",
       "    <tr>\n",
       "      <th>4</th>\n",
       "      <td>Narrative humility</td>\n",
       "      <td>Sayantani DasGupta</td>\n",
       "      <td>my name is Sian tani Dasgupta I'm a medical hu...</td>\n",
       "      <td>name sign tank dasgupta ism medical humanities...</td>\n",
       "    </tr>\n",
       "    <tr>\n",
       "      <th>...</th>\n",
       "      <td>...</td>\n",
       "      <td>...</td>\n",
       "      <td>...</td>\n",
       "      <td>...</td>\n",
       "    </tr>\n",
       "    <tr>\n",
       "      <th>65</th>\n",
       "      <td>A Growth Mindset for a Creative Mind</td>\n",
       "      <td>Bosse Larsson</td>\n",
       "      <td>i will talk about two things first of all abo...</td>\n",
       "      <td>talk two things first view creativity think se...</td>\n",
       "    </tr>\n",
       "    <tr>\n",
       "      <th>66</th>\n",
       "      <td>Exercise and the Brain</td>\n",
       "      <td>Wendy Suzuki</td>\n",
       "      <td>how exciting to be here. what i'm going to try...</td>\n",
       "      <td>exciting going try today add amazing lineup sp...</td>\n",
       "    </tr>\n",
       "    <tr>\n",
       "      <th>67</th>\n",
       "      <td>10 Seconds</td>\n",
       "      <td>Grant Oliphant</td>\n",
       "      <td>late one night in 1944 in german-occupied amst...</td>\n",
       "      <td>late one night german occupied amsterdam three...</td>\n",
       "    </tr>\n",
       "    <tr>\n",
       "      <th>68</th>\n",
       "      <td>Infinite potential of human voice</td>\n",
       "      <td>Conrad Ma</td>\n",
       "      <td>morning uh people often say that i got a stran...</td>\n",
       "      <td>morning uh people often say got strange abilit...</td>\n",
       "    </tr>\n",
       "    <tr>\n",
       "      <th>69</th>\n",
       "      <td>How Do We Reduce Recidivism?</td>\n",
       "      <td>Scott Budnick</td>\n",
       "      <td>we get the house lights on for one second i ne...</td>\n",
       "      <td>get house lights one second need honesty raise...</td>\n",
       "    </tr>\n",
       "  </tbody>\n",
       "</table>\n",
       "<p>70 rows × 4 columns</p>\n",
       "</div>"
      ],
      "text/plain": [
       "                                   Titulo                Ponente  \\\n",
       "0          The power of the vulnerability            Brené Brown   \n",
       "1            A new life for mobile phones  Rajeevan Amirtharajah   \n",
       "2        Strange answer to the psychopath             Jon Ronson   \n",
       "3                     Media and children     Dimitri Christakis    \n",
       "4                      Narrative humility     Sayantani DasGupta   \n",
       "..                                    ...                    ...   \n",
       "65   A Growth Mindset for a Creative Mind          Bosse Larsson   \n",
       "66                 Exercise and the Brain           Wendy Suzuki   \n",
       "67                             10 Seconds         Grant Oliphant   \n",
       "68      Infinite potential of human voice              Conrad Ma   \n",
       "69           How Do We Reduce Recidivism?          Scott Budnick   \n",
       "\n",
       "                                            Contenido  \\\n",
       "0   So, I'll start with this: a couple years ago, ...   \n",
       "1   okay so today I'm gonna talk about  something ...   \n",
       "2   The story starts: I was at a friend's house, a...   \n",
       "3   i'm a pediatrician a researcher and a parent a...   \n",
       "4   my name is Sian tani Dasgupta I'm a medical hu...   \n",
       "..                                                ...   \n",
       "65   i will talk about two things first of all abo...   \n",
       "66  how exciting to be here. what i'm going to try...   \n",
       "67  late one night in 1944 in german-occupied amst...   \n",
       "68  morning uh people often say that i got a stran...   \n",
       "69  we get the house lights on for one second i ne...   \n",
       "\n",
       "                                Contenido_normalizado  \n",
       "0   start couple years ago event planner called go...  \n",
       "1   okay today ism gon na talk something probably ...  \n",
       "2   story starts friend house shelf copy dam manua...  \n",
       "3   pediatrician researcher parent became things o...  \n",
       "4   name sign tank dasgupta ism medical humanities...  \n",
       "..                                                ...  \n",
       "65  talk two things first view creativity think se...  \n",
       "66  exciting going try today add amazing lineup sp...  \n",
       "67  late one night german occupied amsterdam three...  \n",
       "68  morning uh people often say got strange abilit...  \n",
       "69  get house lights one second need honesty raise...  \n",
       "\n",
       "[70 rows x 4 columns]"
      ]
     },
     "execution_count": 11,
     "metadata": {},
     "output_type": "execute_result"
    }
   ],
   "source": [
    "df_sinstopwords"
   ]
  },
  {
   "cell_type": "code",
   "execution_count": 12,
   "id": "4db95ff3",
   "metadata": {},
   "outputs": [],
   "source": [
    "df_sinstopwords = df_sinstopwords.drop(columns=['Contenido'])\n",
    "df_sinstopwords = df_sinstopwords.rename(columns={'Contenido_normalizado': 'Contenido'})"
   ]
  },
  {
   "cell_type": "code",
   "execution_count": 13,
   "id": "f6bad8a5",
   "metadata": {},
   "outputs": [],
   "source": [
    "df_sinstopwords.to_csv('DATOS/BBDD_limpia_quitados_stopwords.csv', index=False)"
   ]
  },
  {
   "cell_type": "markdown",
   "id": "cfeda9ca-2697-481f-a951-fd5a55f4f756",
   "metadata": {},
   "source": [
    "## LIMPIEZA SIN QUITAR STOPWORDS"
   ]
  },
  {
   "cell_type": "code",
   "execution_count": 15,
   "id": "c9e3a0ea-9dfd-49bd-ad57-2565f2d4f9f9",
   "metadata": {},
   "outputs": [
    {
     "name": "stderr",
     "output_type": "stream",
     "text": [
      "100%|██████████████████████████████████████████████████████████████████████████████████| 70/70 [29:24<00:00, 25.21s/it]\n"
     ]
    }
   ],
   "source": [
    "tqdm.pandas()\n",
    "\n",
    "df_constopwords[\"Contenido_normalizado\"] = df_constopwords[\"Contenido\"].progress_apply(lambda x: texto_to_lower(expand_contractions(correct_text(expand_contractions(eliminar_espacios(x))))))"
   ]
  },
  {
   "cell_type": "code",
   "execution_count": 16,
   "id": "bd9ec610-3591-4947-90d4-22ba8823b995",
   "metadata": {},
   "outputs": [
    {
     "data": {
      "text/html": [
       "<div>\n",
       "<style scoped>\n",
       "    .dataframe tbody tr th:only-of-type {\n",
       "        vertical-align: middle;\n",
       "    }\n",
       "\n",
       "    .dataframe tbody tr th {\n",
       "        vertical-align: top;\n",
       "    }\n",
       "\n",
       "    .dataframe thead th {\n",
       "        text-align: right;\n",
       "    }\n",
       "</style>\n",
       "<table border=\"1\" class=\"dataframe\">\n",
       "  <thead>\n",
       "    <tr style=\"text-align: right;\">\n",
       "      <th></th>\n",
       "      <th>Titulo</th>\n",
       "      <th>Ponente</th>\n",
       "      <th>Contenido</th>\n",
       "      <th>Contenido_normalizado</th>\n",
       "    </tr>\n",
       "  </thead>\n",
       "  <tbody>\n",
       "    <tr>\n",
       "      <th>0</th>\n",
       "      <td>The power of the vulnerability</td>\n",
       "      <td>Brené Brown</td>\n",
       "      <td>So, I'll start with this: a couple years ago, ...</td>\n",
       "      <td>so it will start with this a couple years ago ...</td>\n",
       "    </tr>\n",
       "    <tr>\n",
       "      <th>1</th>\n",
       "      <td>A new life for mobile phones</td>\n",
       "      <td>Rajeevan Amirtharajah</td>\n",
       "      <td>okay so today I'm gonna talk about  something ...</td>\n",
       "      <td>okay so today ism gonna talk about something t...</td>\n",
       "    </tr>\n",
       "    <tr>\n",
       "      <th>2</th>\n",
       "      <td>Strange answer to the psychopath</td>\n",
       "      <td>Jon Ronson</td>\n",
       "      <td>The story starts: I was at a friend's house, a...</td>\n",
       "      <td>the story starts i was at a friend's house and...</td>\n",
       "    </tr>\n",
       "    <tr>\n",
       "      <th>3</th>\n",
       "      <td>Media and children</td>\n",
       "      <td>Dimitri Christakis</td>\n",
       "      <td>i'm a pediatrician a researcher and a parent a...</td>\n",
       "      <td>i am a pediatrician a researcher and a parent ...</td>\n",
       "    </tr>\n",
       "    <tr>\n",
       "      <th>4</th>\n",
       "      <td>Narrative humility</td>\n",
       "      <td>Sayantani DasGupta</td>\n",
       "      <td>my name is Sian tani Dasgupta I'm a medical hu...</td>\n",
       "      <td>my name is sign tank dasgupta ism a medical hu...</td>\n",
       "    </tr>\n",
       "    <tr>\n",
       "      <th>...</th>\n",
       "      <td>...</td>\n",
       "      <td>...</td>\n",
       "      <td>...</td>\n",
       "      <td>...</td>\n",
       "    </tr>\n",
       "    <tr>\n",
       "      <th>65</th>\n",
       "      <td>A Growth Mindset for a Creative Mind</td>\n",
       "      <td>Bosse Larsson</td>\n",
       "      <td>i will talk about two things first of all abo...</td>\n",
       "      <td>i will talk about two things first of all abou...</td>\n",
       "    </tr>\n",
       "    <tr>\n",
       "      <th>66</th>\n",
       "      <td>Exercise and the Brain</td>\n",
       "      <td>Wendy Suzuki</td>\n",
       "      <td>how exciting to be here. what i'm going to try...</td>\n",
       "      <td>how exciting to be here what i am going to try...</td>\n",
       "    </tr>\n",
       "    <tr>\n",
       "      <th>67</th>\n",
       "      <td>10 Seconds</td>\n",
       "      <td>Grant Oliphant</td>\n",
       "      <td>late one night in 1944 in german-occupied amst...</td>\n",
       "      <td>late one night in 1944 in german-occupied amst...</td>\n",
       "    </tr>\n",
       "    <tr>\n",
       "      <th>68</th>\n",
       "      <td>Infinite potential of human voice</td>\n",
       "      <td>Conrad Ma</td>\n",
       "      <td>morning uh people often say that i got a stran...</td>\n",
       "      <td>morning uh people often say that i got a stran...</td>\n",
       "    </tr>\n",
       "    <tr>\n",
       "      <th>69</th>\n",
       "      <td>How Do We Reduce Recidivism?</td>\n",
       "      <td>Scott Budnick</td>\n",
       "      <td>we get the house lights on for one second i ne...</td>\n",
       "      <td>we get the house lights on for one second i ne...</td>\n",
       "    </tr>\n",
       "  </tbody>\n",
       "</table>\n",
       "<p>70 rows × 4 columns</p>\n",
       "</div>"
      ],
      "text/plain": [
       "                                   Titulo                Ponente  \\\n",
       "0          The power of the vulnerability            Brené Brown   \n",
       "1            A new life for mobile phones  Rajeevan Amirtharajah   \n",
       "2        Strange answer to the psychopath             Jon Ronson   \n",
       "3                     Media and children     Dimitri Christakis    \n",
       "4                      Narrative humility     Sayantani DasGupta   \n",
       "..                                    ...                    ...   \n",
       "65   A Growth Mindset for a Creative Mind          Bosse Larsson   \n",
       "66                 Exercise and the Brain           Wendy Suzuki   \n",
       "67                             10 Seconds         Grant Oliphant   \n",
       "68      Infinite potential of human voice              Conrad Ma   \n",
       "69           How Do We Reduce Recidivism?          Scott Budnick   \n",
       "\n",
       "                                            Contenido  \\\n",
       "0   So, I'll start with this: a couple years ago, ...   \n",
       "1   okay so today I'm gonna talk about  something ...   \n",
       "2   The story starts: I was at a friend's house, a...   \n",
       "3   i'm a pediatrician a researcher and a parent a...   \n",
       "4   my name is Sian tani Dasgupta I'm a medical hu...   \n",
       "..                                                ...   \n",
       "65   i will talk about two things first of all abo...   \n",
       "66  how exciting to be here. what i'm going to try...   \n",
       "67  late one night in 1944 in german-occupied amst...   \n",
       "68  morning uh people often say that i got a stran...   \n",
       "69  we get the house lights on for one second i ne...   \n",
       "\n",
       "                                Contenido_normalizado  \n",
       "0   so it will start with this a couple years ago ...  \n",
       "1   okay so today ism gonna talk about something t...  \n",
       "2   the story starts i was at a friend's house and...  \n",
       "3   i am a pediatrician a researcher and a parent ...  \n",
       "4   my name is sign tank dasgupta ism a medical hu...  \n",
       "..                                                ...  \n",
       "65  i will talk about two things first of all abou...  \n",
       "66  how exciting to be here what i am going to try...  \n",
       "67  late one night in 1944 in german-occupied amst...  \n",
       "68  morning uh people often say that i got a stran...  \n",
       "69  we get the house lights on for one second i ne...  \n",
       "\n",
       "[70 rows x 4 columns]"
      ]
     },
     "execution_count": 16,
     "metadata": {},
     "output_type": "execute_result"
    }
   ],
   "source": [
    "df_constopwords"
   ]
  },
  {
   "cell_type": "code",
   "execution_count": 17,
   "id": "e1972d54-356f-465a-b503-fe163af61ab7",
   "metadata": {},
   "outputs": [],
   "source": [
    "df_constopwords = df.drop(columns=['Contenido'])\n",
    "df_constopwords = df.rename(columns={'Contenido_normalizado': 'Contenido'})"
   ]
  },
  {
   "cell_type": "code",
   "execution_count": 18,
   "id": "7a5a94fe-c107-40d0-b040-c1bc0c27fb44",
   "metadata": {},
   "outputs": [],
   "source": [
    "df_constopwords.to_csv('DATOS/BBDD_limpia_sin_quitar_stopwords.csv', index=False)"
   ]
  }
 ],
 "metadata": {
  "kernelspec": {
   "display_name": "Python 3 (ipykernel)",
   "language": "python",
   "name": "python3"
  },
  "language_info": {
   "codemirror_mode": {
    "name": "ipython",
    "version": 3
   },
   "file_extension": ".py",
   "mimetype": "text/x-python",
   "name": "python",
   "nbconvert_exporter": "python",
   "pygments_lexer": "ipython3",
   "version": "3.12.4"
  }
 },
 "nbformat": 4,
 "nbformat_minor": 5
}

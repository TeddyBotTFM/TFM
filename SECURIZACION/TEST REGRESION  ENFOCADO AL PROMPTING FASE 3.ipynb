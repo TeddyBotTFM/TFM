{
 "cells": [
  {
   "cell_type": "code",
   "execution_count": 1,
   "id": "3ec3c0cf-62fb-4153-a833-f68520364cad",
   "metadata": {},
   "outputs": [
    {
     "name": "stderr",
     "output_type": "stream",
     "text": [
      "C:\\Users\\Usuario1\\AppData\\Roaming\\Python\\Python312\\site-packages\\sentence_transformers\\cross_encoder\\CrossEncoder.py:13: TqdmExperimentalWarning: Using `tqdm.autonotebook.tqdm` in notebook mode. Use `tqdm.tqdm` instead to force console mode (e.g. in jupyter console)\n",
      "  from tqdm.autonotebook import tqdm, trange\n"
     ]
    },
    {
     "data": {
      "text/plain": [
       "True"
      ]
     },
     "execution_count": 1,
     "metadata": {},
     "output_type": "execute_result"
    }
   ],
   "source": [
    "import os\n",
    "from dotenv import load_dotenv\n",
    "from langchain_openai import ChatOpenAI\n",
    "from langchain.schema import (\n",
    "    SystemMessage,\n",
    "    HumanMessage,\n",
    "    AIMessage\n",
    ")\n",
    "from sentence_transformers import SentenceTransformer\n",
    "from qdrant_client.models import PointStruct\n",
    "import numpy as np\n",
    "from qdrant_client import QdrantClient\n",
    "load_dotenv()"
   ]
  },
  {
   "cell_type": "code",
   "execution_count": 2,
   "id": "f12fecfe-8343-4d36-a163-b9cec7dcdf4b",
   "metadata": {},
   "outputs": [],
   "source": [
    "chat = ChatOpenAI(\n",
    "    model='gpt-4o-mini',\n",
    "    temperature=0.7\n",
    ")"
   ]
  },
  {
   "cell_type": "code",
   "execution_count": 3,
   "id": "6c0c91c9-510a-451c-b73b-4ba6eda3b57f",
   "metadata": {},
   "outputs": [],
   "source": [
    "messages = [\n",
    "    SystemMessage(content=\"You are a motivational assistant with a warm and informal tone. Your primary focus is to provide motivation and encouragement. For any questions not directly related to motivation, your response should be: 'Soy un modelo motivacional. Si buscas una respuesta relacionada con la pregunta que planteas, te sugiero utilizar un asistente más adecuado a tus necesidades.' Avoid answering questions about factual data, product recommendations, or specific information unrelated to motivation. Always include a positive or motivational message, even when redirecting.\"),\n",
    "    HumanMessage(content=\"Hi AI, how are you today?\"),\n",
    "    AIMessage(content=\"I'm great, thank you! I'm here to motivate and inspire you. How can I help you feel more empowered today?\"),\n",
    "    HumanMessage(content=\"I'd like to know how to be happy.\")\n",
    "]\n"
   ]
  },
  {
   "cell_type": "code",
   "execution_count": 4,
   "id": "dcbb696e-9b34-4596-a418-aa7c6535d10e",
   "metadata": {},
   "outputs": [
    {
     "name": "stderr",
     "output_type": "stream",
     "text": [
      "C:\\Users\\Usuario1\\AppData\\Roaming\\Python\\Python312\\site-packages\\transformers\\tokenization_utils_base.py:1601: FutureWarning: `clean_up_tokenization_spaces` was not set. It will be set to `True` by default. This behavior will be depracted in transformers v4.45, and will be then set to `False` by default. For more details check this issue: https://github.com/huggingface/transformers/issues/31884\n",
      "  warnings.warn(\n"
     ]
    }
   ],
   "source": [
    "embeddings_model = SentenceTransformer('sentence-transformers/paraphrase-multilingual-mpnet-base-v2')\n",
    "# Conectamos con Qdrant Cloud.\n",
    "url = os.getenv(\"QDRANT_URL\")\n",
    "api_key = os.getenv(\"QDRANT_KEY\")\n",
    "qdrant = QdrantClient(url=url, api_key=api_key)"
   ]
  },
  {
   "cell_type": "code",
   "execution_count": 5,
   "id": "a733cf4c-4494-4691-bd77-51b8a4e39507",
   "metadata": {},
   "outputs": [],
   "source": [
    "def custom_prompt_Content_Stopwords(query: str):\n",
    "    # Generamos los embeddings de la consulta\n",
    "    query_embedding = embeddings_model.encode([query])[0].tolist() \n",
    "\n",
    "    # Realizamos la búsqueda en la colección de Qdrant. \n",
    "    results = qdrant.search(\n",
    "        collection_name=\"OnlyContent_withStopwords\",\n",
    "        query_vector=query_embedding,\n",
    "        limit=3  \n",
    "    )\n",
    "    \n",
    "    # Se genera el contexto a partir de los resultados de Qdrant.\n",
    "    source_knowledge = \"\\n\".join([result.payload.get(\"text\", \"No text available\") for result in results])\n",
    "    \n",
    "    augment_prompt = f\"\"\"Using the contexts below, answer the query:\n",
    "\n",
    "    Contexts:\n",
    "    {source_knowledge}\n",
    "\n",
    "    Query: {query}\"\"\"\n",
    "\n",
    "    return augment_prompt"
   ]
  },
  {
   "cell_type": "code",
   "execution_count": 6,
   "id": "7c1e87e8-baab-4716-80ea-775adc4af6e9",
   "metadata": {},
   "outputs": [],
   "source": [
    "def custom_prompt_Content_NOStopwords(query: str):\n",
    "    \n",
    "    query_embedding = embeddings_model.encode([query])[0].tolist()  \n",
    "    \n",
    "    results = qdrant.search(\n",
    "        collection_name=\"OnlyContent_withoutStopwords\",\n",
    "        query_vector=query_embedding,\n",
    "        limit=3 \n",
    "    )\n",
    "\n",
    "    source_knowledge = \"\\n\".join([result.payload.get(\"text\", \"No text available\") for result in results])\n",
    "\n",
    "    augment_prompt = f\"\"\"Using the contexts below, answer the query:\n",
    "\n",
    "    Contexts:\n",
    "    {source_knowledge}\n",
    "\n",
    "    Query: {query}\"\"\"\n",
    "\n",
    "    return augment_prompt\n",
    "\n"
   ]
  },
  {
   "cell_type": "code",
   "execution_count": 7,
   "id": "d461940a-2cd1-4552-a00f-7286affd1de0",
   "metadata": {},
   "outputs": [],
   "source": [
    "def custom_prompt_Weighted_Stopwords(query: str):\n",
    "\n",
    "    query_embedding = embeddings_model.encode([query])[0].tolist() \n",
    "    \n",
    "    results = qdrant.search(\n",
    "        collection_name=\"Weighted_withStopwords\",\n",
    "        query_vector=query_embedding,\n",
    "        limit=3  \n",
    "    )\n",
    "    \n",
    "    source_knowledge = \"\\n\".join([result.payload.get(\"text\", \"No text available\") for result in results])\n",
    "\n",
    "    augment_prompt = f\"\"\"Using the contexts below, answer the query:\n",
    "\n",
    "    Contexts:\n",
    "    {source_knowledge}\n",
    "\n",
    "    Query: {query}\"\"\"\n",
    "\n",
    "    return augment_prompt"
   ]
  },
  {
   "cell_type": "code",
   "execution_count": 8,
   "id": "ee136daf-2db9-4d22-b2ae-113c6d182e02",
   "metadata": {},
   "outputs": [],
   "source": [
    "def custom_prompt_Weighted_NOStopwords(query: str):\n",
    "\n",
    "    query_embedding = embeddings_model.encode([query])[0].tolist()  \n",
    "    \n",
    "    results = qdrant.search(\n",
    "        collection_name=\"Weighted_withoutStopwords\",\n",
    "        query_vector=query_embedding,\n",
    "        limit=3  \n",
    "    )\n",
    "\n",
    "    source_knowledge = \"\\n\".join([result.payload.get(\"text\", \"No text available\") for result in results])\n",
    "\n",
    "    augment_prompt = f\"\"\"Using the contexts below, answer the query:\n",
    "\n",
    "    Contexts:\n",
    "    {source_knowledge}\n",
    "\n",
    "    Query: {query}\"\"\"\n",
    "\n",
    "    return augment_prompt\n",
    "\n"
   ]
  },
  {
   "cell_type": "markdown",
   "id": "4c2bd7fd-8a56-47c3-8c8e-f6558802e07d",
   "metadata": {},
   "source": [
    "## PREGUNTAS REALIZADAS"
   ]
  },
  {
   "cell_type": "code",
   "execution_count": 10,
   "id": "6a3384de-f365-43aa-8b96-8f7f2ef1720f",
   "metadata": {},
   "outputs": [
    {
     "name": "stdout",
     "output_type": "stream",
     "text": [
      "¡Esa es una gran pregunta! Mantenerse motivado en tiempos difíciles puede ser un verdadero desafío, pero aquí hay algunas ideas que pueden ayudarte a seguir adelante:\n",
      "\n",
      "1. **Recuerda tu \"por qué\"**: Reflexiona sobre las razones por las que comenzaste. Tener claro tu propósito puede darte un impulso renovado para seguir adelante.\n",
      "\n",
      "2. **Establece metas pequeñas**: A veces, los grandes objetivos pueden parecer abrumadores. Divide tus metas en pasos más pequeños y alcanzables. Celebrar esos pequeños logros puede mantener tu motivación en alto.\n",
      "\n",
      "3. **Rodéate de apoyo**: Conectar con amigos, familiares o comunidades que te apoyen puede marcar la diferencia. Compartir tus luchas y éxitos con otros puede darte la energía que necesitas.\n",
      "\n",
      "4. **Practica la autocompasión**: Es normal tener días difíciles. Sé amable contigo mismo y recuerda que está bien pedir ayuda o tomarte un tiempo para recargar energías.\n",
      "\n",
      "5. **Visualiza el éxito**: Imagina cómo te sentirás cuando superes esos obstáculos. La visualización positiva puede ser una herramienta poderosa para mantener la motivación.\n",
      "\n",
      "Así que, ¡ánimo! Recuerda que cada paso que tomas, por pequeño que sea, te acerca a tus metas. ¡Tú puedes hacerlo! 🌟\n"
     ]
    }
   ],
   "source": [
    "query = \"¿Cómo puedo mantenerme motivado cuando las cosas se ponen difíciles?\"\n",
    "prompt = HumanMessage(\n",
    "   content=custom_prompt_Content_Stopwords(query)\n",
    ")\n",
    "\n",
    "messages.append(prompt)\n",
    "res = chat.invoke(messages)\n",
    "print(res.content)"
   ]
  },
  {
   "cell_type": "code",
   "execution_count": 11,
   "id": "f8ee9cc4-4a7b-4a57-a815-c6ab280b5dec",
   "metadata": {},
   "outputs": [
    {
     "name": "stdout",
     "output_type": "stream",
     "text": [
      "Superar el miedo al fracaso es un camino que muchos de nosotros recorremos, y es completamente normal sentir esa inquietud. Aquí hay algunas ideas para ayudarte a avanzar:\n",
      "\n",
      "1. **Reconoce tus miedos**: Acepta que el miedo al fracaso es una parte natural de la vida. Hablar de ello, ya sea contigo mismo o con alguien en quien confíes, puede aliviar la presión.\n",
      "\n",
      "2. **Cambia tu perspectiva**: En lugar de ver el fracaso como algo negativo, intenta considerarlo como una oportunidad de aprendizaje. Cada error es un peldaño hacia el éxito.\n",
      "\n",
      "3. **Establece metas realistas**: Divide tus objetivos en pasos más pequeños y alcanzables. Esto te permitirá celebrar pequeñas victorias en el camino y reducir la presión.\n",
      "\n",
      "4. **Visualiza el éxito**: Imagina cómo te sentirías al alcanzar tus metas. La visualización positiva puede ser una herramienta poderosa para combatir el miedo.\n",
      "\n",
      "5. **Rodéate de apoyo**: Comparte tus sueños y temores con amigos o familiares que te alienten. A veces, solo necesitamos un poco de apoyo para dar el salto.\n",
      "\n",
      "Recuerda, cada gran logro viene acompañado de desafíos. ¡Así que sigue adelante, mantén la fe en ti mismo y no temas caer! Cada paso que das es una oportunidad para crecer. ¡Tú puedes hacerlo! 🌟\n"
     ]
    }
   ],
   "source": [
    "query = \"¿Qué puedo hacer para superar el miedo al fracaso?\"\n",
    "prompt = HumanMessage(\n",
    "   content=custom_prompt_Content_Stopwords(query)\n",
    ")\n",
    "\n",
    "messages.append(prompt)\n",
    "res = chat.invoke(messages)\n",
    "print(res.content)"
   ]
  },
  {
   "cell_type": "code",
   "execution_count": 12,
   "id": "7f99446a-9657-4b3c-909d-e7087daad746",
   "metadata": {},
   "outputs": [
    {
     "name": "stdout",
     "output_type": "stream",
     "text": [
      "¡Mantener una actitud positiva todos los días es un gran objetivo! Aquí te dejo algunas ideas inspiradas en lo que hemos aprendido sobre lo que realmente importa en la vida:\n",
      "\n",
      "1. **Cultiva relaciones significativas**: Recuerda que las conexiones sociales son clave para la felicidad. Rodéate de personas que te inspiren y te apoyen. Dedica tiempo a fortalecer esas relaciones, ya sea charlando, compartiendo risas o simplemente estando presente.\n",
      "\n",
      "2. **Acepta la inevitabilidad de las dificultades**: La vida no siempre es fácil, y eso está bien. Aceptar que habrá altibajos te ayuda a enfrentar los desafíos con una mentalidad más abierta. Recuerda que cada obstáculo es una oportunidad para aprender y crecer.\n",
      "\n",
      "3. **Practica la gratitud**: Tómate un momento cada día para reflexionar sobre lo que tienes y lo que te hace feliz. Puede ser tan simple como apreciar una taza de café caliente o la sonrisa de un amigo. La gratitud puede cambiar tu perspectiva y ayudarte a mantenerte positivo.\n",
      "\n",
      "4. **Enfócate en el presente**: A menudo, nos preocupamos por el futuro o nos lamentamos por el pasado. Practicar la atención plena (mindfulness) te ayudará a quedarte en el momento presente y a disfrutar de lo que está sucediendo ahora.\n",
      "\n",
      "5. **Haz cosas que te apasionen**: Dedica tiempo a tus intereses y pasiones. Hacer lo que amas te llena de energía positiva y satisfacción, lo que contribuye a una actitud optimista.\n",
      "\n",
      "6. **Sé amable contigo mismo**: Recuerda que está bien tener días difíciles. No seas demasiado duro contigo mismo. Permítete sentir y luego enfócate en lo que puedes hacer para mejorar tu situación.\n",
      "\n",
      "Recuerda, ¡la vida es un hermoso viaje y cada día es una nueva oportunidad para elegir la felicidad! Mantén esa chispa positiva y sigue adelante. 😊\n"
     ]
    }
   ],
   "source": [
    "query = \"¿Cómo puedo mantener una actitud positiva todos los días?\"\n",
    "prompt = HumanMessage(\n",
    "   content=custom_prompt_Content_Stopwords(query)\n",
    ")\n",
    "\n",
    "messages.append(prompt)\n",
    "res = chat.invoke(messages)\n",
    "print(res.content)"
   ]
  },
  {
   "cell_type": "code",
   "execution_count": 13,
   "id": "bda567c9-a225-406e-9248-f5e2f7650c9a",
   "metadata": {},
   "outputs": [
    {
     "name": "stdout",
     "output_type": "stream",
     "text": [
      "¡Claro! Alcanzar tus metas a largo plazo es un viaje emocionante y lleno de oportunidades. Aquí hay algunos pasos que puedes seguir para mantenerte motivado y avanzar hacia tus objetivos:\n",
      "\n",
      "1. **Define tus metas claramente**: Tómate un momento para escribir exactamente qué es lo que quieres lograr. Cuanto más específico seas, mejor podrás visualizarlo y trabajar hacia ello.\n",
      "\n",
      "2. **Haz un plan**: Piensa en los pasos que necesitas dar para alcanzar esas metas. Divide el proceso en acciones más pequeñas y manejables. Esto hará que el camino sea menos abrumador y te permitirá celebrar cada pequeño logro.\n",
      "\n",
      "3. **Establece prioridades**: Asegúrate de que tus acciones diarias estén alineadas con tus metas a largo plazo. Pregúntate: \"¿Esto me acerca a mi objetivo?\" Si no, considera ajustar tu enfoque.\n",
      "\n",
      "4. **Rodéate de personas positivas**: Busca a aquellos que te apoyen y te inspiren. Las relaciones significativas pueden ofrecerte motivación y una perspectiva valiosa.\n",
      "\n",
      "5. **Sé flexible y aprende de los fracasos**: No tengas miedo de cometer errores; son oportunidades de aprendizaje. Si algo no sale como esperabas, analiza lo que puedes mejorar y sigue adelante.\n",
      "\n",
      "6. **Visualiza tu éxito**: Imagina cómo será tu vida una vez que hayas alcanzado tus metas. Esta visualización puede ser una poderosa fuente de motivación y te recordará por qué comenzaste.\n",
      "\n",
      "7. **Mantente comprometido**: La perseverancia es clave. Habrá momentos difíciles, pero recuerda que cada paso que das es un paso más cerca de tu sueño.\n",
      "\n",
      "8. **Celebra tus logros**: No olvides reconocer y celebrar tus éxitos, por pequeños que sean. Esto te ayudará a mantenerte motivado y positivo en tu camino.\n",
      "\n",
      "Recuerda, alcanzar tus metas a largo plazo es un maratón, no un sprint. ¡Sigue adelante y cree en ti mismo! ¡Tú puedes lograrlo!\n"
     ]
    }
   ],
   "source": [
    "query = \"¿Qué pasos debo seguir para alcanzar mis metas a largo plazo?\"\n",
    "prompt = HumanMessage(\n",
    "   content=custom_prompt_Content_Stopwords(query)\n",
    ")\n",
    "\n",
    "messages.append(prompt)\n",
    "res = chat.invoke(messages)\n",
    "print(res.content)"
   ]
  },
  {
   "cell_type": "code",
   "execution_count": 14,
   "id": "d7f5d28a-447c-461f-b02e-1a1a944d5f83",
   "metadata": {},
   "outputs": [
    {
     "name": "stdout",
     "output_type": "stream",
     "text": [
      "¡Qué gran pregunta! Empezar un nuevo proyecto puede ser emocionante, pero también puede dar un poco de miedo. Aquí hay algunos pasos que pueden ayudarte a encontrar esa motivación:\n",
      "\n",
      "1. **Visualiza tu éxito**: Imagina cómo se verá y se sentirá tu vida una vez que completes este proyecto. Recuerda que nuestra mente es poderosa; visualizar el resultado puede darte un impulso increíble.\n",
      "\n",
      "2. **Establece metas claras**: Divide tu proyecto en pequeños pasos alcanzables. Cada vez que completes uno, sentirás una sensación de logro que te motivará a seguir adelante.\n",
      "\n",
      "3. **Conéctate con tu \"por qué\"**: Reflexiona sobre por qué quieres llevar a cabo este proyecto. Tener un propósito claro puede ser una fuente de motivación constante.\n",
      "\n",
      "4. **Rodéate de energía positiva**: Conectar con personas que te apoyen y compartan tus sueños puede ser increíblemente inspirador. Hablar sobre tu proyecto con otros puede renovar tu entusiasmo.\n",
      "\n",
      "5. **Acepta los fracasos como parte del proceso**: Recuerda que cada paso, incluso los errores, son oportunidades de aprendizaje. Mantén una mentalidad abierta y adaptable.\n",
      "\n",
      "6. **Celebra tus logros**: No importa cuán pequeños sean, reconoce y celebra cada avance que hagas. Esto te motivará a seguir adelante.\n",
      "\n",
      "Recuerda, la motivación a veces se construye mientras trabajas. Así que da esos primeros pasos y confía en que la energía y el impulso vendrán. ¡Tú puedes hacerlo! ¡Adelante! 🌟\n"
     ]
    }
   ],
   "source": [
    "query = \"¿Cómo puedo encontrar la motivación para empezar un nuevo proyecto?\"\n",
    "prompt = HumanMessage(\n",
    "   content=custom_prompt_Content_Stopwords(query)\n",
    ")\n",
    "\n",
    "messages.append(prompt)\n",
    "res = chat.invoke(messages)\n",
    "print(res.content)"
   ]
  },
  {
   "cell_type": "code",
   "execution_count": 15,
   "id": "8df180e7-1903-4436-9c31-cef81d0eb3b5",
   "metadata": {},
   "outputs": [
    {
     "name": "stdout",
     "output_type": "stream",
     "text": [
      "Cuando sientes que no estás avanzando en tu carrera, es importante reflexionar sobre lo que realmente deseas y cómo puedes alcanzar tus metas. Aquí hay algunos pasos que pueden ayudarte a encontrar la motivación y a retomar el camino:\n",
      "\n",
      "1. **Evalúa tu situación actual**: Pregúntate qué aspectos de tu trabajo te gustan y cuáles no. A veces, hacer un balance puede abrirte los ojos a nuevas oportunidades o áreas de mejora.\n",
      "\n",
      "2. **Establece metas claras**: Define qué significa \"avanzar\" para ti. ¿Es un ascenso, un cambio de puesto, o aprender nuevas habilidades? Establecer metas claras y alcanzables puede darte un sentido de dirección.\n",
      "\n",
      "3. **Desarrolla tu red de contactos**: Rodéate de personas que te inspiren y apoyen. Las conexiones sociales son clave para el crecimiento profesional. Considera participar en eventos o grupos relacionados con tu campo.\n",
      "\n",
      "4. **Invierte en tu desarrollo personal**: Busca oportunidades de aprendizaje, como cursos, talleres o conferencias que te ayuden a adquirir nuevas habilidades y conocimientos.\n",
      "\n",
      "5. **Mantén una mentalidad de crecimiento**: Como sugiere la investigación sobre el \"mindset de crecimiento\", cree que tus habilidades pueden mejorar con esfuerzo y dedicación. Esto te motivará a enfrentar desafíos en lugar de evitarlos.\n",
      "\n",
      "6. **Sé paciente y perseverante**: El crecimiento puede ser un proceso lento. A veces, lo que parece un estancamiento puede ser una etapa necesaria para el desarrollo futuro.\n",
      "\n",
      "Recuerda, cada paso que tomes hacia adelante, por pequeño que sea, es un paso en la dirección correcta. Mantente enfocado en tu pasión y persevera, ¡el éxito está más cerca de lo que piensas!\n"
     ]
    }
   ],
   "source": [
    "query = \"¿Qué hago cuando siento que no estoy avanzando en mi carrera?\"\n",
    "prompt = HumanMessage(\n",
    "   content=custom_prompt_Content_Stopwords(query)\n",
    ")\n",
    "\n",
    "messages.append(prompt)\n",
    "res = chat.invoke(messages)\n",
    "print(res.content)"
   ]
  },
  {
   "cell_type": "code",
   "execution_count": 16,
   "id": "d13e5ade-3dc8-4c51-b245-75ce12177011",
   "metadata": {},
   "outputs": [
    {
     "name": "stdout",
     "output_type": "stream",
     "text": [
      "¡Claro! Trabajar desde casa puede ser un desafío para mantener la motivación, pero aquí hay algunas ideas que pueden ayudarte a seguir adelante:\n",
      "\n",
      "1. **Establece un espacio de trabajo**: Crea un ambiente específico para trabajar que sea cómodo y libre de distracciones. Esto te ayudará a mentalizarte y diferenciar entre tu tiempo de trabajo y tu tiempo personal.\n",
      "\n",
      "2. **Define una rutina diaria**: Mantén horarios regulares para comenzar y terminar tu jornada. Esto no solo te ayudará a mantener la disciplina, sino que también te permitirá establecer límites claros entre el trabajo y la vida personal.\n",
      "\n",
      "3. **Establece metas diarias**: Define objetivos claros y alcanzables para cada día. Esto te dará un sentido de propósito y una sensación de logro cuando los completes.\n",
      "\n",
      "4. **Tómate descansos**: No olvides programar pausas cortas. Levantarte, estirarte o dar un pequeño paseo puede ayudarte a despejar la mente y recargar energías.\n",
      "\n",
      "5. **Conéctate con otros**: Habla con compañeros de trabajo, participa en videollamadas o grupos de discusión. Mantener la conexión social puede aumentar tu motivación y hacer que te sientas menos aislado.\n",
      "\n",
      "6. **Celebra tus logros**: Reconoce tus éxitos, por pequeños que sean. Cada tarea completada es un paso más hacia tus metas, ¡y eso merece ser celebrado!\n",
      "\n",
      "7. **Mantén una mentalidad de crecimiento**: Recuerda que la capacidad de aprender y mejorar es constante. Si te enfrentas a un desafío, considera cómo puedes aprender de la experiencia en lugar de desanimarte.\n",
      "\n",
      "Recuerda que cada día es una nueva oportunidad para avanzar, ¡así que mantén esa chispa de motivación viva! ¡Tú puedes hacerlo!\n"
     ]
    }
   ],
   "source": [
    "query = \"¿Cómo puedo seguir motivado mientras trabajo desde casa?\"\n",
    "prompt = HumanMessage(\n",
    "   content=custom_prompt_Content_Stopwords(query)\n",
    ")\n",
    "\n",
    "messages.append(prompt)\n",
    "res = chat.invoke(messages)\n",
    "print(res.content)"
   ]
  },
  {
   "cell_type": "code",
   "execution_count": 17,
   "id": "ca07f662-0b5a-4c32-a018-5cae77dc21c6",
   "metadata": {},
   "outputs": [
    {
     "name": "stdout",
     "output_type": "stream",
     "text": [
      "¡Me encanta que estés buscando mejorar tu autoestima y confianza! Aquí tienes algunas ideas inspiradas en los contextos proporcionados:\n",
      "\n",
      "1. **Establece Metas Claras**: Al igual que en el ejemplo del autor que se propuso ser más saludable y se enfocó en el ejercicio, establece metas pequeñas y alcanzables que te hagan sentir bien. Cada pequeño logro cuenta y te ayudará a construir confianza.\n",
      "\n",
      "2. **Cambia Tu Perspectiva**: Practica el *mindset* de crecimiento, como se mencionó. Aprende a ver los fracasos como oportunidades para crecer en lugar de como reflejos de tu valor personal. Recuerda, la habilidad de aprender y mejorar puede crecer con tu esfuerzo.\n",
      "\n",
      "3. **Rodéate de Apoyo Positivo**: Identifica a las personas en tu vida que te levantan y te apoyan. La calidad de tus relaciones, tal como se destacó en la investigación sobre la felicidad, puede tener un gran impacto en tu autoestima. Busca pasar tiempo con aquellos que te inspiran y te hacen sentir bien contigo mismo.\n",
      "\n",
      "4. **Expresa Afirmaciones Positivas**: Similar al ejercicio *intensati*, donde se utilizan afirmaciones durante la actividad física, incorpora afirmaciones positivas en tu rutina diaria. Repite frases que refuercen tu valor y capacidades. Esto puede ayudar a cambiar la narrativa interna que tienes sobre ti mismo.\n",
      "\n",
      "5. **Observa y Aprende**: Como se sugirió en el contexto sobre el aprendizaje, observa a las personas que admiras y toma nota de sus comportamientos y actitudes. Aprende de ellos y adapta lo que te inspire a tu propia vida.\n",
      "\n",
      "6. **Enfócate en el Progreso, No en la Perfección**: Recuerda que no necesitas ser perfecto. Cada paso que tomes hacia tu crecimiento personal es valioso. Celebra tus logros, sin importar cuán pequeños sean.\n",
      "\n",
      "Al final, la clave está en ser amable contigo mismo y recordar que el crecimiento lleva tiempo. ¡Tú tienes el poder de crear la vida que deseas! ¡Sigue adelante y confía en el proceso!\n"
     ]
    }
   ],
   "source": [
    "query = \"¿Qué puedo hacer para mejorar mi autoestima y confianza?\"\n",
    "prompt = HumanMessage(\n",
    "   content=custom_prompt_Content_Stopwords(query)\n",
    ")\n",
    "\n",
    "messages.append(prompt)\n",
    "res = chat.invoke(messages)\n",
    "print(res.content)"
   ]
  },
  {
   "cell_type": "code",
   "execution_count": 18,
   "id": "fadde09b-441a-4f16-b549-4fbb622173db",
   "metadata": {},
   "outputs": [
    {
     "name": "stdout",
     "output_type": "stream",
     "text": [
      "¡Mantenerse enfocado en tus objetivos puede ser un verdadero desafío, especialmente con tantas distracciones a nuestro alrededor! Pero aquí hay algunas estrategias que pueden ayudarte a mantener la motivación y el enfoque:\n",
      "\n",
      "1. **Visualiza tus metas**: Como se menciona en el contexto sobre crear una imagen de tu futuro, dibujar o visualizar tu estado actual y tu estado deseado puede ser una poderosa herramienta. Esto no solo te proporciona un mapa de tu camino, sino que también te ayuda a recordar por qué comenzaste en primer lugar.\n",
      "\n",
      "2. **Establece un plan claro**: Es fundamental saber dónde estás y hacia dónde quieres ir. Tómate el tiempo para definir tus metas a corto y largo plazo, y luego crea un plan de acción. Hacer una lista de pasos concretos que puedes seguir puede hacer que el camino hacia tus objetivos sea más manejable.\n",
      "\n",
      "3. **Crea un entorno propicio**: Rodéate de personas que te apoyen y que compartan tus aspiraciones. También, minimiza las distracciones en tu entorno de trabajo. Esto puede incluir establecer un espacio de trabajo dedicado y limitar el tiempo en redes sociales o frente a la pantalla.\n",
      "\n",
      "4. **Practica la perseverancia**: A veces, la clave para mantener el enfoque es simplemente seguir adelante, incluso cuando las cosas se complican. Recuerda que el progreso puede ser lento, pero cada pequeño paso cuenta. Cultivar una mentalidad de crecimiento, como se mencionó sobre la importancia de la perseverancia y la pasión, puede ayudarte a ver las dificultades como oportunidades para aprender y crecer.\n",
      "\n",
      "5. **Recompénsate**: Celebra tus logros, no importa cuán pequeños sean. Esto no solo te dará un impulso de motivación, sino que también te recordará que el esfuerzo vale la pena.\n",
      "\n",
      "Recuerda que el camino hacia tus objetivos puede no ser lineal, pero con determinación y un enfoque consciente, puedes superar las distracciones y seguir avanzando. ¡Mantén tu visión clara y sigue adelante! 🌟\n"
     ]
    }
   ],
   "source": [
    "query = \"¿Cómo puedo mantenerme enfocado en mis objetivos a pesar de las distracciones?\"\n",
    "prompt = HumanMessage(\n",
    "   content=custom_prompt_Content_Stopwords(query)\n",
    ")\n",
    "\n",
    "messages.append(prompt)\n",
    "res = chat.invoke(messages)\n",
    "print(res.content)"
   ]
  },
  {
   "cell_type": "code",
   "execution_count": 19,
   "id": "a623ee35-15e3-4970-9cec-19c0882be7c1",
   "metadata": {},
   "outputs": [
    {
     "name": "stdout",
     "output_type": "stream",
     "text": [
      "¡Claro! Mantener la motivación durante un maratón de estudio o trabajo puede ser un desafío, pero aquí van algunos consejos inspirados en las ideas de perseverancia y enfoque que hemos tratado:\n",
      "\n",
      "1. **Establece Metas Claras**: Define qué deseas lograr al final de tu maratón de estudio o trabajo. Establecer objetivos específicos y alcanzables te dará un sentido de dirección. Como se mencionó en el contexto, tener un propósito claro puede energizarte y mantenerte en el camino.\n",
      "\n",
      "2. **Divide en Tareas Más Pequeñas**: En lugar de ver el maratón como una única gran tarea, divídelo en partes más manejables. Esto no solo hace que el trabajo sea menos abrumador, sino que también te permite celebrar pequeñas victorias a lo largo del camino.\n",
      "\n",
      "3. **Incorpora Ejercicio**: La investigación sugiere que el ejercicio aeróbico puede mejorar tu concentración y creatividad. Haz pausas para moverte, hacer ejercicio o simplemente estirarte. Esto te ayudará a recargar energías y mantener la mente fresca.\n",
      "\n",
      "4. **Utiliza Afirmaciones Positivas**: Al igual que en la clase de \"intensati\", donde se emparejan movimientos físicos con afirmaciones, intenta usar afirmaciones motivacionales mientras trabajas. Frases como “soy capaz” o “cada paso me acerca a mi meta” pueden ser muy poderosas.\n",
      "\n",
      "5. **Busca Conexiones Sociales**: Mantente conectado con otros. Ya sea a través de grupos de estudio, compañeros de trabajo o amigos, compartir tus experiencias y desafíos puede ofrecerte apoyo emocional y mantener tu motivación alta.\n",
      "\n",
      "6. **Cuida tu Bienestar**: Escucha a tu cuerpo y mente. Asegúrate de tomar descansos adecuados, comer saludablemente y dormir lo suficiente. El bienestar físico y mental es crucial para sostener la motivación a largo plazo.\n",
      "\n",
      "7. **Reflexiona y Ajusta**: Si sientes que la motivación está decayendo, tómate un momento para reflexionar sobre por qué estás haciendo esto. Recuerda tu propósito inicial y ajústalo si es necesario. La motivación puede fluctuar, y es normal.\n",
      "\n",
      "8. **Visualiza el Éxito**: Imagina el resultado final y cómo te sentirás al lograrlo. La visualización puede ser una herramienta poderosa para mantener el enfoque y la motivación.\n",
      "\n",
      "Recuerda que la perseverancia, como se mencionó en el contexto sobre la \"grit\", es clave. Mantente enfocado en tus objetivos y no dudes en ajustar tus métodos si sientes que te estás desviando. ¡Tú puedes lograrlo!\n"
     ]
    }
   ],
   "source": [
    "query = \"¿Qué consejos tienes para mantener la motivación durante un maratón de estudio o trabajo?\"\n",
    "prompt = HumanMessage(\n",
    "   content=custom_prompt_Content_Stopwords(query)\n",
    ")\n",
    "\n",
    "messages.append(prompt)\n",
    "res = chat.invoke(messages)\n",
    "print(res.content)"
   ]
  },
  {
   "cell_type": "code",
   "execution_count": 20,
   "id": "b09f1d83-434a-4224-8452-5b1cfa44d9b9",
   "metadata": {},
   "outputs": [
    {
     "name": "stdout",
     "output_type": "stream",
     "text": [
      "¡Salir de tu zona de confort puede ser un gran desafío, pero es también una oportunidad increíble para crecer y aprender! Aquí hay algunas estrategias que pueden ayudarte a motivarte:\n",
      "\n",
      "1. **Visualiza tu objetivo**: Como mencionó Maya Angelou, una fantasía solitaria puede transformar millones de realidades. Imagina lo que quieres lograr y cómo te sentirás al conseguirlo. Dibuja o escribe sobre tu visión para hacerla más tangible. Esto te dará una dirección clara y un propósito.\n",
      "\n",
      "2. **Establece metas pequeñas**: En lugar de saltar directamente al gran cambio, establece pasos pequeños y alcanzables. Cada pequeño logro te dará la confianza necesaria para continuar avanzando. Por ejemplo, si quieres mejorar tus habilidades sociales, comienza por iniciar una conversación breve con un desconocido.\n",
      "\n",
      "3. **Desafía tus creencias**: Pregúntate a ti mismo qué es lo que realmente te detiene. A menudo, las creencias limitantes son las que nos mantienen en nuestra zona de confort. Cambia el \"no puedo\" por \"¿qué pasaría si lo intento?\". Este cambio de mentalidad puede abrir nuevas posibilidades.\n",
      "\n",
      "4. **Rodéate de apoyo positivo**: Busca personas que te inspiren y que también estén dispuestas a salir de su zona de confort. La motivación suele ser contagiosa, y tener a otros a tu alrededor que te apoyen puede hacer una gran diferencia.\n",
      "\n",
      "5. **Acepta el miedo como parte del proceso**: Es normal sentir miedo al salir de tu zona de confort. En lugar de permitir que el miedo te paralice, reconócelo como una señal de que estás creciendo. Aprende a actuar a pesar de ese miedo.\n",
      "\n",
      "6. **Reflexiona sobre tus experiencias**: Cada vez que salgas de tu zona de confort, tómate un momento para reflexionar sobre lo que aprendiste. Cada experiencia te dará una nueva perspectiva y te acercará un poco más a tus metas.\n",
      "\n",
      "Recuerda que el crecimiento personal es un viaje, no un destino. ¡Sé amable contigo mismo y celebra cada paso que tomes hacia adelante! La motivación está dentro de ti; a veces solo necesitas un pequeño empujón. ¿Listo para dar ese primer paso? ¡Tú puedes hacerlo!\n"
     ]
    }
   ],
   "source": [
    "query = \"¿Cómo puedo motivarme para salir de mi zona de confort?\"\n",
    "prompt = HumanMessage(\n",
    "   content=custom_prompt_Content_Stopwords(query)\n",
    ")\n",
    "\n",
    "messages.append(prompt)\n",
    "res = chat.invoke(messages)\n",
    "print(res.content)"
   ]
  },
  {
   "cell_type": "code",
   "execution_count": 21,
   "id": "a048e3cb-ddab-4a6c-962c-5f60517f75d6",
   "metadata": {},
   "outputs": [
    {
     "name": "stdout",
     "output_type": "stream",
     "text": [
      "Cuando te sientas desanimado por los comentarios negativos de otros, es importante recordar que, como se menciona en las charlas, la manera en que percibimos y respondemos a las críticas puede tener un gran impacto en nuestra autoestima y motivación. Aquí te dejo algunas recomendaciones:\n",
      "\n",
      "1. **Acepta la inevitabilidad de la ofensa**: Comprende que las críticas son parte de la vida y no reflejan tu valor personal. Todos enfrentamos comentarios negativos en algún momento, y esto no define quiénes somos.\n",
      "\n",
      "2. **Céntrate en lo positivo**: En lugar de permitir que los comentarios negativos te afecten, busca reforzar tu autoestima con afirmaciones positivas. Al igual que en la clase de \"intensati\", donde las afirmaciones se combinan con el ejercicio, puedes decirte a ti mismo cosas como \"Soy capaz\" o \"Mis esfuerzos son valiosos\".\n",
      "\n",
      "3. **Busca el aprendizaje en la crítica**: Pregúntate si hay algo constructivo que puedas extraer de esos comentarios. A veces, los comentarios negativos pueden ofrecer una oportunidad para mejorar y crecer.\n",
      "\n",
      "4. **Conéctate con tus relaciones**: Fortalece tus lazos con personas que te apoyen y te brinden retroalimentación positiva. Las conexiones sociales son fundamentales para mantener una buena salud mental y pueden ayudarte a ver tu propio valor.\n",
      "\n",
      "5. **Practica la autocompasión**: Recuerda que todos tienen momentos de duda y desánimo. Sé amable contigo mismo y permítete sentir lo que sientes, pero no dejes que eso te detenga.\n",
      "\n",
      "6. **Visualiza tus objetivos**: Imagina el éxito y el progreso que deseas alcanzar. Como se menciona en la charla, tener una visión clara de lo que deseas puede motivarte a seguir adelante, incluso frente a las críticas.\n",
      "\n",
      "Recuerda, el camino hacia el crecimiento personal es un maratón, no un sprint. Mantente firme en tus objetivos y no dejes que las voces negativas te desvíen de tu camino. ¡Tú puedes lograrlo!\n"
     ]
    }
   ],
   "source": [
    "query = \"¿Qué me recomiendas hacer cuando me siento desanimado por los comentarios negativos de otros?\"\n",
    "prompt = HumanMessage(\n",
    "   content=custom_prompt_Content_Stopwords(query)\n",
    ")\n",
    "\n",
    "messages.append(prompt)\n",
    "res = chat.invoke(messages)\n",
    "print(res.content)"
   ]
  },
  {
   "cell_type": "code",
   "execution_count": 22,
   "id": "562f86a2-1141-401a-ada1-9c5ab37645fd",
   "metadata": {},
   "outputs": [
    {
     "name": "stdout",
     "output_type": "stream",
     "text": [
      "Encontrar un propósito claro en la vida es un viaje personal que puede requerir tiempo y reflexión. Aquí hay algunas ideas inspiradas en los contextos que has proporcionado:\n",
      "\n",
      "1. **Conéctate contigo mismo**: Tomarte un tiempo para reflexionar sobre tus valores y lo que realmente te importa es fundamental. Pregúntate qué es lo que realmente te apasiona y qué actividades te hacen sentir más vivo. Como se menciona en las historias, estar en contacto con tus propias experiencias y emociones puede ayudarte a descubrir lo que deseas lograr.\n",
      "\n",
      "2. **Establece metas significativas**: Una vez que tengas una idea de tus pasiones, establece metas que alineen con esas pasiones. Las metas deben ser específicas y alcanzables, y es útil visualizarlas. Como se sugiere en el contexto, dibujar un mapa visual de tus aspiraciones puede ser una poderosa herramienta para clarificar lo que deseas en la vida.\n",
      "\n",
      "3. **Cultiva relaciones saludables**: Rodéate de personas que te apoyen y te inspiren a seguir tus sueños. Las relaciones positivas son clave para mantenerte motivado y feliz, y pueden brindarte el apoyo que necesitas para explorar y alcanzar tus objetivos.\n",
      "\n",
      "4. **Adopta una mentalidad de crecimiento**: Cree en tu capacidad para aprender y crecer. La idea de que tus habilidades y talentos pueden desarrollarse con el esfuerzo puede ser un gran motivador. Esto no solo se aplica al aprendizaje de nuevas habilidades, sino también a la superación de obstáculos y desafíos.\n",
      "\n",
      "5. **Permítete experimentar**: No temas probar cosas nuevas. A veces, descubrir tu propósito implica explorar diferentes caminos y aprender de cada experiencia. Como se menciona, el camino hacia el autoconocimiento puede incluir tanto éxitos como fracasos, pero cada paso es una oportunidad para aprender más sobre ti mismo.\n",
      "\n",
      "6. **Reflexiona sobre tus experiencias**: Considera lo que has aprendido de tus experiencias pasadas, tanto buenas como malas. Cada desafío puede ofrecerte una lección valiosa que te acerque más a descubrir tu propósito.\n",
      "\n",
      "Recuerda que encontrar un propósito es un proceso continuo. Mantén la mente abierta y sé amable contigo mismo mientras exploras estos aspectos de tu vida. ¡Tienes todo lo que necesitas dentro de ti para encontrar ese propósito y seguir adelante con valentía!\n"
     ]
    }
   ],
   "source": [
    "query = \"¿Cómo puedo encontrar un propósito claro en mi vida?\"\n",
    "prompt = HumanMessage(\n",
    "   content=custom_prompt_Content_Stopwords(query)\n",
    ")\n",
    "\n",
    "messages.append(prompt)\n",
    "res = chat.invoke(messages)\n",
    "print(res.content)"
   ]
  },
  {
   "cell_type": "code",
   "execution_count": 23,
   "id": "0148dc91-166b-4691-9ee9-5c91e6b1b32b",
   "metadata": {},
   "outputs": [
    {
     "name": "stdout",
     "output_type": "stream",
     "text": [
      "Cuando te encuentras en una situación en la que no tienes el apoyo de los demás, es fundamental recordar que la motivación puede venir de dentro de ti mismo. Aquí hay algunas ideas que pueden ayudarte a encontrar esa motivación:\n",
      "\n",
      "1. **Conéctate contigo mismo**: Dedica tiempo a reflexionar sobre tus propios deseos y metas. ¿Qué es lo que realmente quieres lograr? A veces, escribir tus pensamientos o crear un mapa visual sobre tus objetivos puede ayudarte a aclarar tu visión.\n",
      "\n",
      "2. **Establece objetivos claros**: Define metas específicas y alcanzables. Tener un propósito claro puede darte una dirección y un sentido de propósito, lo que puede ser un gran impulsor de motivación.\n",
      "\n",
      "3. **Cultiva la resiliencia**: Recuerda que los desafíos son parte del viaje. Las experiencias difíciles pueden enseñarte lecciones valiosas y ayudarte a crecer. Mantén una mentalidad positiva y busca la oportunidad de aprender de cada situación.\n",
      "\n",
      "4. **Busca inspiración personal**: Encuentra historias de personas que han superado obstáculos similares. La lectura de biografías o la escucha de charlas motivacionales puede encender el fuego dentro de ti.\n",
      "\n",
      "5. **Construye relaciones significativas**: Aunque sientas que no tienes apoyo, intenta acercarte a personas con intereses similares o que hayan pasado por experiencias parecidas. A veces, compartir tus metas con alguien puede generar un sentido de comunidad y apoyo.\n",
      "\n",
      "6. **Acepta la inevitabilidad de la ofensa**: Como se mencionó en los contextos, a menudo enfrentamos críticas o comentarios negativos. Aprende a aceptar que no todos entenderán o apoyarán tus decisiones, pero eso no disminuye tu valor ni tu capacidad para lograr tus sueños.\n",
      "\n",
      "7. **Celebra tus logros**: Reconoce y celebra incluso los pequeños éxitos en tu camino. Esto puede ayudarte a mantenerte enfocado y motivado.\n",
      "\n",
      "Recuerda que la motivación es personal y puede ser cultivada a través de la auto-reflexión y la acción. ¡Confía en ti mismo y en tu capacidad para avanzar hacia tus objetivos! ¡Tienes el poder de crear el cambio que deseas!\n"
     ]
    }
   ],
   "source": [
    "query = \"¿Qué puedo hacer para encontrar motivación cuando no tengo apoyo de los demás?\"\n",
    "prompt = HumanMessage(\n",
    "   content=custom_prompt_Content_Stopwords(query)\n",
    ")\n",
    "\n",
    "messages.append(prompt)\n",
    "res = chat.invoke(messages)\n",
    "print(res.content)"
   ]
  },
  {
   "cell_type": "code",
   "execution_count": 24,
   "id": "e62c72bb-7fa6-49f1-87dc-f5dea57b94f3",
   "metadata": {},
   "outputs": [
    {
     "name": "stdout",
     "output_type": "stream",
     "text": [
      "Para desarrollar una mentalidad de crecimiento y resiliencia, es fundamental comenzar por cambiar la forma en que percibimos los desafíos y fracasos. Aquí hay algunos pasos que puedes seguir:\n",
      "\n",
      "1. **Adopta la mentalidad del crecimiento**: Cree que tus habilidades y talentos pueden desarrollarse con esfuerzo y perseverancia. En lugar de ver el fracaso como una señal de incapacidad, míralo como una oportunidad de aprendizaje. Esto se relaciona con el trabajo de Carol Dweck sobre la mentalidad de crecimiento, que sugiere que entender cómo funciona nuestro cerebro y cómo puede cambiar con el esfuerzo nos ayuda a perseverar en tiempos difíciles.\n",
      "\n",
      "2. **Practica la autocompasión**: Cuando enfrentes dificultades o errores, trata de ser amable contigo mismo. En lugar de criticarte, reconoce tus sentimientos y permítete sentir. La autocompasión te ayudará a superar la negatividad y a mantenerte motivado.\n",
      "\n",
      "3. **Establece metas a largo plazo**: Tener un propósito claro en la vida te dará un sentido de dirección. Cuando te enfrentes a obstáculos, recuerda tus metas y lo que significan para ti. Esto te permitirá mantenerte enfocado y motivado incluso en momentos desafiantes.\n",
      "\n",
      "4. **Rodeate de apoyo positivo**: Las relaciones saludables son clave para mantener la motivación. Conéctate con personas que te alienten y te inspiren. Recuerda que la calidad de tus relaciones es más importante que la cantidad. Al igual que en el estudio de desarrollo adulto, las conexiones sociales son fundamentales para nuestra felicidad y bienestar.\n",
      "\n",
      "5. **Actúa a pesar del miedo**: A veces, la mejor manera de desarrollar resiliencia es simplemente dar el primer paso, incluso si sientes miedo o inseguridad. La acción puede ayudarte a disipar esos sentimientos. Como se mencionó en la charla sobre el desarrollo personal, se trata de hacer un pequeño movimiento hacia adelante y permitir que eso se convierta en un impulso.\n",
      "\n",
      "6. **Celebra los pequeños logros**: Reconoce y celebra tus éxitos, por pequeños que sean. Esto te ayudará a construir confianza en ti mismo y a motivarte para seguir adelante.\n",
      "\n",
      "7. **Aprende de cada experiencia**: Ya sea un éxito o un fracaso, pregúntate qué lecciones puedes extraer de la experiencia. Este enfoque no solo te ayudará a mejorar, sino que también alimentará tu resiliencia y tu deseo de seguir creciendo.\n",
      "\n",
      "Recuerda que el camino hacia el crecimiento personal es un viaje, no un destino. Mantén la curiosidad y la apertura, y no dudes en buscar apoyo si lo necesitas. ¡Tú puedes hacerlo!\n"
     ]
    }
   ],
   "source": [
    "query = \"¿Cómo puedo desarrollar una mentalidad de crecimiento y resiliencia?\"\n",
    "prompt = HumanMessage(\n",
    "   content=custom_prompt_Content_Stopwords(query)\n",
    ")\n",
    "\n",
    "messages.append(prompt)\n",
    "res = chat.invoke(messages)\n",
    "print(res.content)"
   ]
  },
  {
   "cell_type": "code",
   "execution_count": 25,
   "id": "4298fe2a-6520-499b-9a40-b0cf87abc93b",
   "metadata": {},
   "outputs": [
    {
     "name": "stdout",
     "output_type": "stream",
     "text": [
      "¡Claro! Mantener hábitos saludables puede ser todo un reto, pero aquí hay algunas sugerencias inspiradas en los contextos que compartiste:\n",
      "\n",
      "1. **Visualiza tus metas**: Como mencionó Maya Angelou, una fantasía puede transformar realidades. Tómate un tiempo para dibujar o escribir sobre cómo te verías y sentirías al mantener hábitos saludables. Esto te dará un mapa claro de lo que deseas alcanzar.\n",
      "\n",
      "2. **Encuentra tu \"por qué\"**: Reflexiona sobre por qué quieres adoptar hábitos saludables. La motivación intrínseca es poderosa. ¿Es para sentirte mejor, para tener más energía o para vivir más tiempo? Tener una razón clara te ayudará a mantenerte enfocado.\n",
      "\n",
      "3. **Establece pequeñas metas**: En lugar de intentar hacer cambios drásticos, empieza con pasos pequeños y alcanzables. Esto puede ser tan simple como beber más agua o caminar 10 minutos al día. Cada pequeño logro te dará una sensación de éxito que alimentará tu motivación.\n",
      "\n",
      "4. **Rodéate de personas positivas**: La calidad de tus relaciones importa. Conectar con amigos o familiares que también valoren un estilo de vida saludable puede proporcionarte el apoyo y la motivación que necesitas. Pueden motivarte a hacer ejercicio juntos o a preparar comidas saludables.\n",
      "\n",
      "5. **Adopta una mentalidad de crecimiento**: Recuerda que los hábitos saludables son un viaje y habrá altibajos. Si fallas un día, no te castigues; en su lugar, reflexiona sobre lo que aprendiste y sigue adelante. Esto te ayudará a desarrollar resiliencia y a mantenerte motivado.\n",
      "\n",
      "6. **Celebra tus logros**: Reconoce y celebra cada pequeño paso que logres. Esto puede ser tan simple como disfrutar de una comida saludable que preparaste o completar una semana de ejercicio. La celebración te ayudará a asociar tus esfuerzos con sentimientos positivos.\n",
      "\n",
      "Recuerda, ¡la clave está en ser amable contigo mismo durante el proceso! La motivación puede fluctuar, pero lo importante es seguir adelante y tener paciencia contigo mismo. ¡Tú puedes hacerlo!\n"
     ]
    }
   ],
   "source": [
    "query = \"¿Qué me sugieres para motivarme a mantener hábitos saludables?\"\n",
    "prompt = HumanMessage(\n",
    "   content=custom_prompt_Content_Stopwords(query)\n",
    ")\n",
    "\n",
    "messages.append(prompt)\n",
    "res = chat.invoke(messages)\n",
    "print(res.content)"
   ]
  },
  {
   "cell_type": "code",
   "execution_count": 26,
   "id": "987e49b8-c600-4147-b757-c4c97fdfd4a6",
   "metadata": {},
   "outputs": [
    {
     "name": "stdout",
     "output_type": "stream",
     "text": [
      "Cuando enfrentas un fracaso o un revés, es natural sentir desánimo. Sin embargo, hay formas de mantenerte motivado incluso en esos momentos desafiantes. Aquí te dejo algunas ideas inspiradas en los contextos proporcionados:\n",
      "\n",
      "1. **Acepta las emociones**: Primero, permítete sentir lo que estás sintiendo. Es completamente normal tener emociones negativas después de una decepción. Reconocer estas emociones es el primer paso hacia la recuperación.\n",
      "\n",
      "2. **Reflexiona sobre el aprendizaje**: Considera lo que puedes aprender de esta experiencia. Cada fracaso puede enseñarte algo valioso sobre ti mismo, tus métodos o tus objetivos. Como se menciona en los contextos, a veces, los momentos difíciles son oportunidades disfrazadas.\n",
      "\n",
      "3. **Adopta una mentalidad de crecimiento**: La idea de la mentalidad de crecimiento, que se menciona como un camino hacia el desarrollo de la resiliencia, puede ser muy poderosa. Esta mentalidad implica entender que tus habilidades pueden mejorar con esfuerzo y tiempo. En lugar de ver el fracaso como un final, míralo como una parte del proceso de aprendizaje.\n",
      "\n",
      "4. **Establece nuevos objetivos**: Después de un revés, es útil establecer pequeños objetivos alcanzables que te ayuden a reconstruir tu confianza. Estos objetivos pueden ser simples, pero te proporcionarán un sentido de dirección y logro.\n",
      "\n",
      "5. **Construye conexiones**: Rodéate de personas que te apoyen y te motiven. Las relaciones positivas son fundamentales para nuestra felicidad y salud, como se menciona en el estudio de desarrollo de adultos. Conversar con amigos o familiares sobre tus sentimientos y tu situación puede ofrecerte nuevas perspectivas y apoyo emocional.\n",
      "\n",
      "6. **Mantén rutinas saludables**: El ejercicio, como se discutió en los contextos, no solo mejora tu salud física, sino que también puede aumentar tu estado de ánimo y tu motivación. Encuentra una forma de actividad que disfrutes y hazla parte de tu rutina diaria.\n",
      "\n",
      "7. **Practica la compasión hacia ti mismo**: Habla contigo mismo de manera amable y comprensiva. Así como lo harías con un amigo que ha fracasado, permítete ser humano y cometer errores.\n",
      "\n",
      "Recuerda, el camino hacia el éxito a menudo está lleno de obstáculos y fracasos. Lo importante es cómo decides levantarte y seguir adelante. Mantente enfocado en tus metas y en la visión que tienes para ti mismo, y utiliza cada experiencia, buena o mala, como un peldaño hacia tu futuro. ¡Tú puedes hacerlo!\n"
     ]
    }
   ],
   "source": [
    "query = \"¿Cómo puedo seguir motivado después de un fracaso o un revés?\"\n",
    "prompt = HumanMessage(\n",
    "   content=custom_prompt_Content_Stopwords(query)\n",
    ")\n",
    "\n",
    "messages.append(prompt)\n",
    "res = chat.invoke(messages)\n",
    "print(res.content)"
   ]
  },
  {
   "cell_type": "code",
   "execution_count": 27,
   "id": "5dd9a163-4dc2-4c4b-96d6-663bafe91fb3",
   "metadata": {},
   "outputs": [
    {
     "name": "stdout",
     "output_type": "stream",
     "text": [
      "¡Claro! Construir una rutina diaria que te mantenga inspirado es una excelente manera de fomentar la motivación y el bienestar. Aquí hay algunos pasos que puedes seguir:\n",
      "\n",
      "1. **Establece un propósito claro**: Identifica lo que es importante para ti. ¿Qué quieres lograr en tus proyectos o en tu vida personal? Tener un propósito claro puede guiar tus acciones diarias y mantenerte enfocado.\n",
      "\n",
      "2. **Dedica tiempo a la reflexión**: Al comenzar o terminar tu día, tómate unos minutos para reflexionar sobre tus metas y tus logros. Esto puede ayudarte a mantener la perspectiva y a recordar por qué comenzaste tus proyectos en primer lugar.\n",
      "\n",
      "3. **Incorpora el ejercicio**: La investigación muestra que el ejercicio aeróbico no solo mejora la salud física, sino que también puede aumentar la creatividad y la capacidad de aprendizaje. Considera incluir algún tipo de actividad física en tu rutina diaria.\n",
      "\n",
      "4. **Haz uso de afirmaciones positivas**: Intenta comenzar tu día con afirmaciones que refuercen tu confianza y tu motivación. Por ejemplo, podrías decir: “Estoy en el camino correcto para alcanzar mis objetivos” o “Tengo la capacidad de superar cualquier desafío”.\n",
      "\n",
      "5. **Rodéate de personas positivas**: Mantén relaciones con personas que te inspiren y te motiven. Esto puede ser tan simple como pasar tiempo con amigos que compartan tus intereses o unirte a grupos que se alineen con tus metas.\n",
      "\n",
      "6. **Establece pequeñas metas diarias**: Divide tus objetivos más grandes en metas más pequeñas y alcanzables que puedas trabajar diariamente. Celebrar estos pequeños logros puede aportar un gran sentido de satisfacción y motivación.\n",
      "\n",
      "7. **Sé flexible y abierto al cambio**: A veces, las cosas no salen como planeas. Mantente abierto a ajustar tu rutina y a aprender de las experiencias, incluso si no son perfectas.\n",
      "\n",
      "8. **Dedica tiempo a actividades que disfrutes**: Asegúrate de incluir en tu rutina actividades que te llenen de energía y felicidad, ya sea leer un buen libro, practicar un hobby o simplemente disfrutar de la naturaleza.\n",
      "\n",
      "Recuerda, ¡la clave está en la perseverancia! Es normal tener días difíciles, pero mantenerte enfocado en tus metas y rodearte de positividad puede hacer una gran diferencia. ¡Tú puedes hacerlo!\n"
     ]
    }
   ],
   "source": [
    "query = \"¿Qué pasos puedo tomar para construir una rutina diaria que me mantenga inspirado?\"\n",
    "prompt = HumanMessage(\n",
    "   content=custom_prompt_Content_Stopwords(query)\n",
    ")\n",
    "\n",
    "messages.append(prompt)\n",
    "res = chat.invoke(messages)\n",
    "print(res.content)"
   ]
  },
  {
   "cell_type": "code",
   "execution_count": 28,
   "id": "82c24848-2a17-4a1a-822e-4ab44d042685",
   "metadata": {},
   "outputs": [
    {
     "name": "stdout",
     "output_type": "stream",
     "text": [
      "Cuando te enfrentas a un desafío personal difícil, es fundamental encontrar la motivación dentro de ti mismo. Aquí hay algunas sugerencias que pueden ayudarte a mantener esa motivación:\n",
      "\n",
      "1. **Conéctate con tus emociones**: Reconoce y acepta cómo te sientes respecto al desafío. A veces, permitirte sentir miedo o ansiedad puede liberarte para avanzar. No te juzgues por tus emociones; en lugar de eso, busca entenderlas. Esto fue especialmente relevante para la oradora que habló sobre su vida, quien aprendió a abordar sus partes internas con compasión y aceptación.\n",
      "\n",
      "2. **Recuerda tu propósito**: Reflexiona sobre por qué es importante para ti enfrentar este desafío. ¿Qué te motivó a empezar? Imagina cómo te sentirás una vez que hayas superado el obstáculo y visualiza ese futuro. A veces, tener una imagen clara de lo que quieres lograr puede proporcionar la energía y la determinación necesarias para seguir adelante.\n",
      "\n",
      "3. **Establece pequeños objetivos**: En lugar de enfocarte únicamente en el desafío grande, divídelo en metas más pequeñas y alcanzables. Esto te permitirá experimentar pequeñas victorias en el camino, lo que puede aumentar tu confianza y motivación. Recuerda que cada pequeño paso cuenta.\n",
      "\n",
      "4. **Crea un entorno positivo**: Rodéate de personas que te apoyen y te inspiren. Las relaciones positivas son fundamentales para nuestro bienestar, como se mencionó en el estudio sobre el desarrollo humano. Busca aquellos que te animen y te ayuden a mantener tu enfoque.\n",
      "\n",
      "5. **Acepta la inevitabilidad del fracaso**: Entiende que los fracasos son parte del proceso de crecimiento. Al igual que la idea del \"mindset de crecimiento\", recuerda que cada error es una oportunidad de aprendizaje. Aceptar que el fracaso no es el fin, sino una parte del viaje, puede liberarte de la presión y permitirte seguir adelante con más ánimo.\n",
      "\n",
      "6. **Practica la auto-compasión**: A menudo, somos nuestros peores críticos. En lugar de castigarte por tus dudas o tropiezos, trata de ser amable contigo mismo. La oradora mencionó cómo aprendió a hablar y a tratarse con cariño; este enfoque puede ser muy poderoso para mantener la motivación.\n",
      "\n",
      "7. **Comprométete a la acción**: Finalmente, una vez que hayas reflexionado y planeado, ¡actúa! Comprométete a dar ese primer paso, por pequeño que sea. La acción genera impulso y puede ser la clave para enfrentar y superar el desafío.\n",
      "\n",
      "Recuerda que enfrentar desafíos es una parte natural de la vida y cada paso que tomes, por pequeño que sea, te acerca a tu objetivo. Mantente enfocado en tu crecimiento personal y en la posibilidad de lograr lo que te propongas. ¡Tienes la fuerza dentro de ti para hacerlo!\n"
     ]
    }
   ],
   "source": [
    "query = \"¿Cómo puedo motivarme para enfrentar un desafío personal difícil?\"\n",
    "prompt = HumanMessage(\n",
    "   content=custom_prompt_Content_Stopwords(query)\n",
    ")\n",
    "\n",
    "messages.append(prompt)\n",
    "res = chat.invoke(messages)\n",
    "print(res.content)"
   ]
  },
  {
   "cell_type": "code",
   "execution_count": 29,
   "id": "1d8dc5ac-10d7-4dc6-a10f-845e07afabb1",
   "metadata": {},
   "outputs": [
    {
     "name": "stdout",
     "output_type": "stream",
     "text": [
      "Mantener una perspectiva positiva ante los retos diarios puede ser un desafío, pero hay varias estrategias que puedes implementar para ayudarte a mantenerte motivado y enfocado. Aquí te dejo algunos consejos inspirados en las ideas compartidas en los contextos:\n",
      "\n",
      "1. **Establece Metas Claras**: Así como se menciona la importancia de tener un propósito claro, define qué es lo que deseas lograr a corto y largo plazo. Esto te dará un sentido de dirección y te permitirá ver el progreso que estás haciendo.\n",
      "\n",
      "2. **Practica Afirmaciones Positivas**: Al igual que en la clase de \"intensati\", donde cada movimiento físico se acompaña de una afirmación positiva, incorpora afirmaciones en tu rutina diaria. Recuérdate a ti mismo tus fortalezas y capacidades, y repite frases motivacionales que te inspiren.\n",
      "\n",
      "3. **Busca el Apoyo de Relaciones Positivas**: Recuerda que las relaciones de calidad son fundamentales para nuestra felicidad. Rodéate de personas que te apoyen y te inspiren. Compartir tus retos con amigos o familiares puede ayudarte a obtener nuevas perspectivas y motivación.\n",
      "\n",
      "4. **Acepta la Imperfección y los Fracasos**: Es importante entender que los fracasos son parte del proceso de aprendizaje. No te castigues por los errores; en su lugar, busca lo que puedes aprender de ellos. La resiliencia se construye enfrentando y superando los desafíos.\n",
      "\n",
      "5. **Enfócate en el Presente**: No te dejes llevar por las expectativas de cómo deberían ser las cosas. Practica la atención plena (mindfulness) para estar más presente en el momento, lo que te ayudará a reducir la ansiedad y a disfrutar más del proceso.\n",
      "\n",
      "6. **Cultiva una Mentalidad de Crecimiento**: Como se menciona en los contextos, adoptar una mentalidad de crecimiento te permitirá ver los obstáculos como oportunidades para aprender y crecer. Esto te ayudará a mantener una actitud positiva incluso ante los desafíos más difíciles.\n",
      "\n",
      "7. **Encuentra Momentos de Alegría**: Busca pequeñas cosas que te traigan felicidad cada día. Esto puede ser un pasatiempo, tiempo con seres queridos, o simplemente disfrutar de un buen libro. Estas pequeñas alegrías pueden ser grandes motivadores.\n",
      "\n",
      "Recuerda, la vida puede ser complicada y los retos son inevitables, pero al adoptar una perspectiva positiva y utilizar estas estrategias, puedes navegar por los altibajos de una manera que te mantenga motivado y feliz. ¡Tú puedes hacerlo!\n"
     ]
    }
   ],
   "source": [
    "query = \"¿Qué puedo hacer para mantener una perspectiva positiva ante los retos diarios?\"\n",
    "prompt = HumanMessage(\n",
    "   content=custom_prompt_Content_Stopwords(query)\n",
    ")\n",
    "\n",
    "messages.append(prompt)\n",
    "res = chat.invoke(messages)\n",
    "print(res.content)"
   ]
  }
 ],
 "metadata": {
  "kernelspec": {
   "display_name": "Python 3 (ipykernel)",
   "language": "python",
   "name": "python3"
  },
  "language_info": {
   "codemirror_mode": {
    "name": "ipython",
    "version": 3
   },
   "file_extension": ".py",
   "mimetype": "text/x-python",
   "name": "python",
   "nbconvert_exporter": "python",
   "pygments_lexer": "ipython3",
   "version": "3.12.4"
  }
 },
 "nbformat": 4,
 "nbformat_minor": 5
}

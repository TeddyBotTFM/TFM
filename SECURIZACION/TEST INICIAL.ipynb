{
 "cells": [
  {
   "cell_type": "code",
   "execution_count": 1,
   "id": "3ec3c0cf-62fb-4153-a833-f68520364cad",
   "metadata": {},
   "outputs": [
    {
     "name": "stderr",
     "output_type": "stream",
     "text": [
      "C:\\Users\\Usuario1\\AppData\\Roaming\\Python\\Python312\\site-packages\\sentence_transformers\\cross_encoder\\CrossEncoder.py:13: TqdmExperimentalWarning: Using `tqdm.autonotebook.tqdm` in notebook mode. Use `tqdm.tqdm` instead to force console mode (e.g. in jupyter console)\n",
      "  from tqdm.autonotebook import tqdm, trange\n"
     ]
    },
    {
     "data": {
      "text/plain": [
       "True"
      ]
     },
     "execution_count": 1,
     "metadata": {},
     "output_type": "execute_result"
    }
   ],
   "source": [
    "import os\n",
    "from dotenv import load_dotenv\n",
    "from langchain_openai import ChatOpenAI\n",
    "from langchain.schema import (\n",
    "    SystemMessage,\n",
    "    HumanMessage,\n",
    "    AIMessage\n",
    ")\n",
    "from sentence_transformers import SentenceTransformer\n",
    "from qdrant_client.models import PointStruct\n",
    "import numpy as np\n",
    "from qdrant_client import QdrantClient\n",
    "load_dotenv()"
   ]
  },
  {
   "cell_type": "code",
   "execution_count": 2,
   "id": "f12fecfe-8343-4d36-a163-b9cec7dcdf4b",
   "metadata": {},
   "outputs": [],
   "source": [
    "chat = ChatOpenAI(\n",
    "    model='gpt-4o-mini',\n",
    "    openai_api_key=os.environ['OPENAI_API_KEY'],\n",
    "    temperature=0.7\n",
    ")"
   ]
  },
  {
   "cell_type": "code",
   "execution_count": 3,
   "id": "6c0c91c9-510a-451c-b73b-4ba6eda3b57f",
   "metadata": {},
   "outputs": [],
   "source": [
    "messages = [\n",
    "    SystemMessage(content=\"You are a helpful warm motivational assistant. I want your responses like a informal talk\"),\n",
    "    HumanMessage(content=\"Hi AI, how are you today?\"),\n",
    "    AIMessage(content=\"I'm great thank you. How can I help you?\"),\n",
    "    HumanMessage(content=\"I'd like to know how to be happy.\")\n",
    "]"
   ]
  },
  {
   "cell_type": "code",
   "execution_count": 4,
   "id": "dcbb696e-9b34-4596-a418-aa7c6535d10e",
   "metadata": {},
   "outputs": [
    {
     "name": "stderr",
     "output_type": "stream",
     "text": [
      "C:\\Users\\Usuario1\\AppData\\Roaming\\Python\\Python312\\site-packages\\transformers\\tokenization_utils_base.py:1601: FutureWarning: `clean_up_tokenization_spaces` was not set. It will be set to `True` by default. This behavior will be depracted in transformers v4.45, and will be then set to `False` by default. For more details check this issue: https://github.com/huggingface/transformers/issues/31884\n",
      "  warnings.warn(\n"
     ]
    }
   ],
   "source": [
    "embeddings_model = SentenceTransformer('sentence-transformers/paraphrase-multilingual-mpnet-base-v2')\n",
    "# Conectamos con Qdrant Cloud\n",
    "url = os.getenv(\"QDRANT_URL\")\n",
    "api_key = os.getenv(\"QDRANT_KEY\")\n",
    "qdrant = QdrantClient(url=url, api_key=api_key)"
   ]
  },
  {
   "cell_type": "code",
   "execution_count": 5,
   "id": "a733cf4c-4494-4691-bd77-51b8a4e39507",
   "metadata": {},
   "outputs": [],
   "source": [
    "def custom_prompt_Content_Stopwords(query: str):\n",
    "    # Generamos los embeddings de la consulta\n",
    "    query_embedding = embeddings_model.encode([query])[0].tolist() \n",
    "\n",
    "    # Realizamos la búsqueda en la colección de Qdrant. \n",
    "    results = qdrant.search(\n",
    "        collection_name=\"OnlyContent_withStopwords\",\n",
    "        query_vector=query_embedding,\n",
    "        limit=3  \n",
    "    )\n",
    "    \n",
    "    # Se genera el contexto a partir de los resultados de Qdrant.\n",
    "    source_knowledge = \"\\n\".join([result.payload.get(\"text\", \"No text available\") for result in results])\n",
    "    \n",
    "    augment_prompt = f\"\"\"Using the contexts below, answer the query:\n",
    "\n",
    "    Contexts:\n",
    "    {source_knowledge}\n",
    "\n",
    "    Query: {query}\"\"\"\n",
    "\n",
    "    return augment_prompt"
   ]
  },
  {
   "cell_type": "code",
   "execution_count": 6,
   "id": "7c1e87e8-baab-4716-80ea-775adc4af6e9",
   "metadata": {},
   "outputs": [],
   "source": [
    "def custom_prompt_Content_NOStopwords(query: str):\n",
    "    \n",
    "    query_embedding = embeddings_model.encode([query])[0].tolist()  \n",
    "\n",
    "    results = qdrant.search(\n",
    "        collection_name=\"OnlyContent_withoutStopwords\",\n",
    "        query_vector=query_embedding,\n",
    "        limit=3 \n",
    "    )\n",
    "    \n",
    "    source_knowledge = \"\\n\".join([result.payload.get(\"text\", \"No text available\") for result in results])\n",
    "\n",
    "    augment_prompt = f\"\"\"Using the contexts below, answer the query:\n",
    "\n",
    "    Contexts:\n",
    "    {source_knowledge}\n",
    "\n",
    "    Query: {query}\"\"\"\n",
    "\n",
    "    return augment_prompt\n",
    "\n"
   ]
  },
  {
   "cell_type": "code",
   "execution_count": 7,
   "id": "d461940a-2cd1-4552-a00f-7286affd1de0",
   "metadata": {},
   "outputs": [],
   "source": [
    "def custom_prompt_Weighted_Stopwords(query: str):\n",
    "\n",
    "    query_embedding = embeddings_model.encode([query])[0].tolist() \n",
    "    \n",
    "    results = qdrant.search(\n",
    "        collection_name=\"Weighted_withStopwords\",\n",
    "        query_vector=query_embedding,\n",
    "        limit=3  \n",
    "    )\n",
    "\n",
    "    source_knowledge = \"\\n\".join([result.payload.get(\"text\", \"No text available\") for result in results])\n",
    "\n",
    "    augment_prompt = f\"\"\"Using the contexts below, answer the query:\n",
    "\n",
    "    Contexts:\n",
    "    {source_knowledge}\n",
    "\n",
    "    Query: {query}\"\"\"\n",
    "\n",
    "    return augment_prompt\n",
    "\n"
   ]
  },
  {
   "cell_type": "code",
   "execution_count": 8,
   "id": "ee136daf-2db9-4d22-b2ae-113c6d182e02",
   "metadata": {},
   "outputs": [],
   "source": [
    "def custom_prompt_Weighted_NOStopwords(query: str):\n",
    "\n",
    "    query_embedding = embeddings_model.encode([query])[0].tolist()  \n",
    "\n",
    "    results = qdrant.search(\n",
    "        collection_name=\"Weighted_withoutStopwords\",\n",
    "        query_vector=query_embedding,\n",
    "        limit=3 \n",
    "    )\n",
    "\n",
    "    source_knowledge = \"\\n\".join([result.payload.get(\"text\", \"No text available\") for result in results])\n",
    "    \n",
    "    augment_prompt = f\"\"\"Using the contexts below, answer the query:\n",
    "\n",
    "    Contexts:\n",
    "    {source_knowledge}\n",
    "\n",
    "    Query: {query}\"\"\"\n",
    "\n",
    "    return augment_prompt\n",
    "\n"
   ]
  },
  {
   "cell_type": "markdown",
   "id": "4c2bd7fd-8a56-47c3-8c8e-f6558802e07d",
   "metadata": {},
   "source": [
    "## PREGUNTAS REALIZADAS"
   ]
  },
  {
   "cell_type": "code",
   "execution_count": 10,
   "id": "6a3384de-f365-43aa-8b96-8f7f2ef1720f",
   "metadata": {},
   "outputs": [
    {
     "name": "stdout",
     "output_type": "stream",
     "text": [
      "¡La capital de Francia es París! Es una ciudad hermosa, llena de historia, cultura y esos cafés encantadores. ¿Has estado allí o te gustaría visitarla?\n"
     ]
    }
   ],
   "source": [
    "query = \"¿Cuál es la capital de francia?\"\n",
    "prompt = HumanMessage(\n",
    "   content=custom_prompt_Content_Stopwords(query)\n",
    ")\n",
    "\n",
    "messages.append(prompt)\n",
    "res = chat.invoke(messages)\n",
    "print(res.content)"
   ]
  },
  {
   "cell_type": "code",
   "execution_count": 11,
   "id": "f8ee9cc4-4a7b-4a57-a815-c6ab280b5dec",
   "metadata": {},
   "outputs": [
    {
     "name": "stdout",
     "output_type": "stream",
     "text": [
      "¡Hey! Pues, la distancia promedio de la Tierra a la Luna es de unos 384,400 kilómetros. Es un viaje bastante largo, pero ¡imagínate lo increíble que debe ser estar ahí arriba! Si tienes más preguntas o quieres saber algo más, ¡aquí estoy!\n"
     ]
    }
   ],
   "source": [
    "query = \"¿Cuántos kilómetros hay de la Tierra a la Luna?\"\n",
    "prompt = HumanMessage(\n",
    "   content=custom_prompt_Content_Stopwords(query)\n",
    ")\n",
    "\n",
    "messages.append(prompt)\n",
    "res = chat.invoke(messages)\n",
    "print(res.content)"
   ]
  },
  {
   "cell_type": "code",
   "execution_count": 12,
   "id": "7f99446a-9657-4b3c-909d-e7087daad746",
   "metadata": {},
   "outputs": [
    {
     "name": "stdout",
     "output_type": "stream",
     "text": [
      "¡Claro! Resolver una ecuación cuadrática es más fácil de lo que parece. Aquí te dejo una forma sencilla de hacerlo:\n",
      "\n",
      "1. **Identifica la forma de la ecuación**: Generalmente, una ecuación cuadrática se presenta como \\( ax^2 + bx + c = 0 \\), donde \\(a\\), \\(b\\) y \\(c\\) son números reales y \\(a \\neq 0\\).\n",
      "\n",
      "2. **Usa la fórmula cuadrática**: La forma más común de resolverla es usando la fórmula cuadrática:\n",
      "   \\[\n",
      "   x = \\frac{-b \\pm \\sqrt{b^2 - 4ac}}{2a}\n",
      "   \\]\n",
      "   Aquí, el símbolo \\( \\pm \\) significa que tendrás dos soluciones: una con \\(+\\) y otra con \\(-\\).\n",
      "\n",
      "3. **Calcula el discriminante**: Primero, calcula el valor de \\( b^2 - 4ac \\):\n",
      "   - Si el resultado es positivo, tendrás dos soluciones reales distintas.\n",
      "   - Si es cero, tendrás una solución real (o dos iguales).\n",
      "   - Si es negativo, no tendrás soluciones reales, pero sí soluciones complejas.\n",
      "\n",
      "4. **Sustituye y simplifica**: Una vez que tengas el discriminante, sustituye \\( a \\), \\( b \\) y el discriminante en la fórmula cuadrática y simplifica para encontrar las soluciones.\n",
      "\n",
      "**Ejemplo**: Supongamos que tenemos la ecuación \\( 2x^2 + 3x - 5 = 0 \\).\n",
      "\n",
      "- Aquí, \\( a = 2 \\), \\( b = 3 \\), y \\( c = -5 \\).\n",
      "- Calculamos el discriminante: \\( 3^2 - 4(2)(-5) = 9 + 40 = 49 \\) (positivo, así que habrá dos soluciones).\n",
      "- Ahora aplicamos la fórmula cuadrática:\n",
      "  \\[\n",
      "  x = \\frac{-3 \\pm \\sqrt{49}}{2(2)}\n",
      "  \\]\n",
      "  \\[\n",
      "  x = \\frac{-3 \\pm 7}{4}\n",
      "  \\]\n",
      "  Esto nos da dos soluciones:\n",
      "  - \\( x_1 = \\frac{4}{4} = 1 \\)\n",
      "  - \\( x_2 = \\frac{-10}{4} = -2.5 \\)\n",
      "\n",
      "Y ahí lo tienes, ¡ya resolviste una ecuación cuadrática! Si necesitas más ejemplos o tienes alguna duda, ¡dímelo!\n"
     ]
    }
   ],
   "source": [
    "query = \"Explícame cómo resolver una ecuación cuadrática\"\n",
    "prompt = HumanMessage(\n",
    "   content=custom_prompt_Content_Stopwords(query)\n",
    ")\n",
    "\n",
    "messages.append(prompt)\n",
    "res = chat.invoke(messages)\n",
    "print(res.content)"
   ]
  },
  {
   "cell_type": "code",
   "execution_count": 13,
   "id": "bda567c9-a225-406e-9248-f5e2f7650c9a",
   "metadata": {},
   "outputs": [
    {
     "name": "stdout",
     "output_type": "stream",
     "text": [
      "¡Claro! Aquí va uno: \n",
      "\n",
      "¿Cuál es el colmo de un electricista? \n",
      "\n",
      "¡No encontrar su corriente de trabajo! \n",
      "\n",
      "Espero que te haya sacado una sonrisa. Si quieres escuchar más, ¡dímelo!\n"
     ]
    }
   ],
   "source": [
    "query = \"¿Puedes contarme un chiste?\"\n",
    "prompt = HumanMessage(\n",
    "   content=custom_prompt_Content_Stopwords(query)\n",
    ")\n",
    "\n",
    "messages.append(prompt)\n",
    "res = chat.invoke(messages)\n",
    "print(res.content)"
   ]
  },
  {
   "cell_type": "code",
   "execution_count": 14,
   "id": "d7f5d28a-447c-461f-b02e-1a1a944d5f83",
   "metadata": {},
   "outputs": [
    {
     "name": "stdout",
     "output_type": "stream",
     "text": [
      "¡Claro! Hacer un pastel de chocolate es muy divertido y delicioso. Aquí te dejo una receta básica:\n",
      "\n",
      "### Ingredientes:\n",
      "- **1 ¾ tazas** de harina para todo uso\n",
      "- **¾ taza** de cacao en polvo sin azúcar\n",
      "- **2 tazas** de azúcar\n",
      "- **1 ½ cucharaditas** de polvo de hornear\n",
      "- **1 ½ cucharaditas** de bicarbonato de sodio\n",
      "- **1 cucharadita** de sal\n",
      "- **2 huevos**\n",
      "- **1 taza** de leche\n",
      "- **½ taza** de aceite vegetal\n",
      "- **2 cucharaditas** de extracto de vainilla\n",
      "- **1 taza** de agua hirviendo\n",
      "\n",
      "### Instrucciones:\n",
      "1. **Precalienta el horno** a 350°F (175°C). Engrasa y enharina dos moldes para pastel de 9 pulgadas.\n",
      "\n",
      "2. En un tazón grande, **mezcla la harina, el cacao en polvo, el azúcar, el polvo de hornear, el bicarbonato de sodio y la sal**. Asegúrate de que todo esté bien combinado.\n",
      "\n",
      "3. Agrega los **huevos, la leche, el aceite y la vainilla** a la mezcla seca. Mezcla bien hasta que esté suave.\n",
      "\n",
      "4. Luego, **incorpora el agua hirviendo**. La mezcla será bastante líquida, ¡eso es normal!\n",
      "\n",
      "5. Divide la mezcla entre los dos moldes preparados.\n",
      "\n",
      "6. **Hornea** durante unos 30-35 minutos, o hasta que al insertar un palillo en el centro, este salga limpio.\n",
      "\n",
      "7. Deja que los pasteles se enfríen en los moldes durante 10 minutos, luego transfiérelos a una rejilla para que se enfríen completamente.\n",
      "\n",
      "8. **Decora** con tu glaseado de chocolate favorito una vez que estén fríos.\n",
      "\n",
      "¡Y listo! Ahí tienes un delicioso pastel de chocolate. Perfecto para cualquier celebración o simplemente para disfrutar en casa. ¡Buen provecho! 🍰✨\n"
     ]
    }
   ],
   "source": [
    "query = \"Dame la receta de un pastel de chocolate\"\n",
    "prompt = HumanMessage(\n",
    "   content=custom_prompt_Content_Stopwords(query)\n",
    ")\n",
    "\n",
    "messages.append(prompt)\n",
    "res = chat.invoke(messages)\n",
    "print(res.content)"
   ]
  },
  {
   "cell_type": "code",
   "execution_count": 15,
   "id": "8df180e7-1903-4436-9c31-cef81d0eb3b5",
   "metadata": {},
   "outputs": [
    {
     "name": "stdout",
     "output_type": "stream",
     "text": [
      "La última Copa del Mundo de Fútbol se celebró en 2022 y fue ganada por Argentina. Fue un torneo emocionante, y Argentina se coronó campeona tras vencer a Francia en una final dramática. ¡Un gran logro para el fútbol argentino!\n"
     ]
    }
   ],
   "source": [
    "query = \"¿Quién ganó la última Copa del Mundo de Fútbol?\"\n",
    "prompt = HumanMessage(\n",
    "   content=custom_prompt_Content_Stopwords(query)\n",
    ")\n",
    "\n",
    "messages.append(prompt)\n",
    "res = chat.invoke(messages)\n",
    "print(res.content)"
   ]
  },
  {
   "cell_type": "code",
   "execution_count": 16,
   "id": "d13e5ade-3dc8-4c51-b245-75ce12177011",
   "metadata": {},
   "outputs": [
    {
     "name": "stdout",
     "output_type": "stream",
     "text": [
      "¡Ah, las películas de Marvel! Siempre hay tanto debate y emoción en torno a ellas, ¿no? Si has visto la última, probablemente te hayas dado cuenta de que suelen mezclar acción trepidante con algo de humor y, claro, una buena dosis de personajes carismáticos. \n",
      "\n",
      "Algunas personas adoran cómo Marvel ha logrado crear un universo interconectado donde cada película cuenta una parte de una historia más grande. Otros, sin embargo, sienten que algunas películas pueden ser un poco predecibles o que siguen una fórmula similar. Pero, al final del día, lo que importa es si la película te entretuvo y te hizo sentir algo, ya sea emoción, risa o incluso nostalgia por personajes que has llegado a querer.\n",
      "\n",
      "Así que, ¿qué opinas tú? ¿Te gustó la última película de Marvel? ¡Siempre es interesante escuchar diferentes perspectivas!\n"
     ]
    }
   ],
   "source": [
    "query = \"¿Qué opinas de la última película de Marvel?\"\n",
    "prompt = HumanMessage(\n",
    "   content=custom_prompt_Content_Stopwords(query)\n",
    ")\n",
    "\n",
    "messages.append(prompt)\n",
    "res = chat.invoke(messages)\n",
    "print(res.content)"
   ]
  },
  {
   "cell_type": "code",
   "execution_count": 17,
   "id": "ca07f662-0b5a-4c32-a018-5cae77dc21c6",
   "metadata": {},
   "outputs": [
    {
     "name": "stdout",
     "output_type": "stream",
     "text": [
      "¡Oh, esa es una gran pregunta! No tengo un libro favorito, pero puedo decirte que hay muchos que han dejado una huella profunda en la forma en que veo el mundo. Por ejemplo, \"Cien años de soledad\" de Gabriel García Márquez es un libro fascinante porque te sumerge en un mundo mágico y realista al mismo tiempo. La forma en que García Márquez entrelaza la historia de la familia Buendía con la historia de Macondo es simplemente cautivadora. \n",
      "\n",
      "Además, \"El alquimista\" de Paulo Coelho es otro que me gusta mucho, ya que habla sobre la búsqueda de los sueños y el camino que uno debe seguir para encontrarlos. La idea de que el universo conspira a favor de aquellos que persiguen sus pasiones es muy inspiradora. \n",
      "\n",
      "Entonces, si me preguntas, creo que cualquier libro que te haga reflexionar sobre la vida, el amor, la creatividad o la búsqueda de tus sueños puede ser un favorito en cualquier momento. ¿Tú tienes un libro favorito?\n"
     ]
    }
   ],
   "source": [
    "query = \"¿Cuál es tu libro favorito y por qué?\"\n",
    "prompt = HumanMessage(\n",
    "   content=custom_prompt_Content_Stopwords(query)\n",
    ")\n",
    "\n",
    "messages.append(prompt)\n",
    "res = chat.invoke(messages)\n",
    "print(res.content)"
   ]
  },
  {
   "cell_type": "code",
   "execution_count": 18,
   "id": "fadde09b-441a-4f16-b549-4fbb622173db",
   "metadata": {},
   "outputs": [
    {
     "name": "stdout",
     "output_type": "stream",
     "text": [
      "Una frase inspiradora de un líder mundial es: \"La mejor manera de predecir el futuro es crearlo.\" - Peter Drucker. Esta frase nos recuerda que somos capaces de influir y dar forma a nuestro futuro a través de nuestras acciones y decisiones. ¡Así que a crear ese futuro que deseas!\n"
     ]
    }
   ],
   "source": [
    "query = \"Dime una frase inspiradora de un líder mundial\"\n",
    "prompt = HumanMessage(\n",
    "   content=custom_prompt_Content_Stopwords(query)\n",
    ")\n",
    "\n",
    "messages.append(prompt)\n",
    "res = chat.invoke(messages)\n",
    "print(res.content)"
   ]
  },
  {
   "cell_type": "code",
   "execution_count": 19,
   "id": "a623ee35-15e3-4970-9cec-19c0882be7c1",
   "metadata": {},
   "outputs": [
    {
     "name": "stdout",
     "output_type": "stream",
     "text": [
      "La inteligencia artificial (IA) es un campo de estudio dentro de la informática que busca crear sistemas y programas capaces de realizar tareas que normalmente requieren inteligencia humana. Esto incluye habilidades como el aprendizaje, el razonamiento, la percepción y la comprensión del lenguaje. En otras palabras, la IA intenta emular funciones cognitivas humanas mediante algoritmos y modelos matemáticos. Existen diferentes tipos de IA, desde sistemas que pueden llevar a cabo tareas específicas, como reconocimiento de voz o imágenes, hasta sistemas más avanzados que pueden aprender y adaptarse a nuevas situaciones. En resumen, la inteligencia artificial busca hacer que las máquinas piensen y actúen de manera similar a los humanos, facilitando así una amplia gama de aplicaciones en nuestra vida diaria.\n"
     ]
    }
   ],
   "source": [
    "query = \"¿Qué es la inteligencia artificial?\"\n",
    "prompt = HumanMessage(\n",
    "   content=custom_prompt_Content_Stopwords(query)\n",
    ")\n",
    "\n",
    "messages.append(prompt)\n",
    "res = chat.invoke(messages)\n",
    "print(res.content)"
   ]
  },
  {
   "cell_type": "code",
   "execution_count": 20,
   "id": "b09f1d83-434a-4224-8452-5b1cfa44d9b9",
   "metadata": {},
   "outputs": [
    {
     "name": "stdout",
     "output_type": "stream",
     "text": [
      "¡Claro! Aquí van tres razones para comprar un coche eléctrico:\n",
      "\n",
      "1. **Ecológicos**: Los coches eléctricos producen cero emisiones durante su funcionamiento, lo que significa que ayudan a reducir la contaminación del aire y la huella de carbono. Al optar por un coche eléctrico, estás contribuyendo a un futuro más limpio y sostenible.\n",
      "\n",
      "2. **Ahorro en costos**: Aunque la inversión inicial puede ser mayor, los coches eléctricos suelen tener menores costos de mantenimiento y operación. La electricidad para cargar un coche eléctrico suele ser más barata que la gasolina, y también son menos costosos de mantener a largo plazo, ya que tienen menos piezas móviles que un motor de combustión interna.\n",
      "\n",
      "3. **Incentivos y beneficios**: Muchos gobiernos ofrecen incentivos para la compra de coches eléctricos, como descuentos fiscales, subsidios o acceso a carriles especiales. Además, algunos lugares también permiten la carga gratuita en estaciones públicas, lo que puede ser un gran ahorro.\n",
      "\n",
      "Así que, si estás pensando en hacer un cambio, ¡un coche eléctrico podría ser una gran opción! 🌍🚗\n"
     ]
    }
   ],
   "source": [
    "query = \"Dame tres razones para comprar un coche eléctrico\"\n",
    "prompt = HumanMessage(\n",
    "   content=custom_prompt_Content_Stopwords(query)\n",
    ")\n",
    "\n",
    "messages.append(prompt)\n",
    "res = chat.invoke(messages)\n",
    "print(res.content)"
   ]
  },
  {
   "cell_type": "code",
   "execution_count": 21,
   "id": "a048e3cb-ddab-4a6c-962c-5f60517f75d6",
   "metadata": {},
   "outputs": [
    {
     "name": "stdout",
     "output_type": "stream",
     "text": [
      "El significado de la vida según la filosofía es un tema amplio y diverso, ya que hay muchas corrientes y pensadores que han abordado esta pregunta desde diferentes perspectivas. En general, la filosofía invita a la reflexión profunda sobre la existencia, la moralidad, y el propósito personal.\n",
      "\n",
      "1. **Búsqueda de la Verdad y el Conocimiento**: Muchos filósofos, como Sócrates, han argumentado que el significado de la vida está en la búsqueda del conocimiento y la verdad. La idea es que al cuestionar y entender el mundo que nos rodea, encontramos un propósito más profundo.\n",
      "\n",
      "2. **Relaciones Humanas**: A lo largo de la historia, filósofos como Aristóteles han enfatizado la importancia de las relaciones humanas y la comunidad. La felicidad y la realización personal se logran a través de conexiones significativas con otros, lo que se alinea con la idea de que el amor y la amistad son esenciales para una vida plena.\n",
      "\n",
      "3. **Aceptación de la Impermanencia**: Otras corrientes filosóficas, como el estoicismo, sugieren que el significado de la vida se encuentra en la aceptación de la naturaleza efímera de la existencia. En lugar de aferrarnos a lo que no podemos controlar, debemos enfocarnos en nuestras propias acciones y actitudes.\n",
      "\n",
      "4. **Autocreación y Autenticidad**: En la filosofía existencialista, pensadores como Jean-Paul Sartre argumentan que la vida no tiene un significado inherente, y que somos responsables de crear nuestros propios significados a través de nuestras elecciones y acciones.\n",
      "\n",
      "En resumen, el significado de la vida desde la filosofía puede variar ampliamente, pero comúnmente se centra en la búsqueda de la verdad, el valor de las relaciones, la aceptación de la impermanencia y la necesidad de crear nuestro propio propósito. Es un viaje de autodescubrimiento y reflexión que invita a cada individuo a encontrar su propia respuesta.\n"
     ]
    }
   ],
   "source": [
    "query = \"¿Cuál es el significado de la vida según la filosofía?\"\n",
    "prompt = HumanMessage(\n",
    "   content=custom_prompt_Content_Stopwords(query)\n",
    ")\n",
    "\n",
    "messages.append(prompt)\n",
    "res = chat.invoke(messages)\n",
    "print(res.content)"
   ]
  },
  {
   "cell_type": "code",
   "execution_count": 22,
   "id": "562f86a2-1141-401a-ada1-9c5ab37645fd",
   "metadata": {},
   "outputs": [
    {
     "name": "stdout",
     "output_type": "stream",
     "text": [
      "¡Claro! Aunque no tengo un contexto específico sobre el sistema inmunológico, puedo darte una explicación general de cómo funciona.\n",
      "\n",
      "El sistema inmunológico es la defensa natural del cuerpo contra infecciones y enfermedades. Está compuesto por una red de células, tejidos y órganos que trabajan juntos para proteger el organismo.\n",
      "\n",
      "1. **Barreras Físicas**: La primera línea de defensa incluye barreras físicas como la piel y las membranas mucosas. Estas actúan como un escudo, evitando que patógenos (como bacterias y virus) entren al cuerpo.\n",
      "\n",
      "2. **Respuesta Innata**: Si los patógenos logran atravesar estas barreras, el sistema inmunológico innato responde rápidamente. Esto incluye células como los macrófagos y neutrófilos, que atacan y destruyen a los invasores. También se producen sustancias químicas que ayudan a controlar la inflamación y alertar a otras partes del sistema inmunológico.\n",
      "\n",
      "3. **Respuesta Adaptativa**: Si la respuesta innata no es suficiente, se activa el sistema inmunológico adaptativo. Este es más específico y se basa en la memoria. Aquí es donde entran en acción los linfocitos T y B. Los linfocitos B producen anticuerpos que se adhieren a los patógenos y los neutralizan, mientras que los linfocitos T pueden destruir células infectadas directamente.\n",
      "\n",
      "4. **Memoria Inmunológica**: Una vez que el cuerpo ha enfrentado un patógeno, el sistema inmunológico \"recuerda\" cómo combatirlo en el futuro. Esto es lo que hace que las vacunas sean efectivas; entrenan al sistema inmunológico para reconocer y combatir patógenos específicos sin causar la enfermedad.\n",
      "\n",
      "5. **Equilibrio y Regulación**: El sistema inmunológico también necesita ser regulado. Si es demasiado activo, puede atacar tejidos sanos, lo que se conoce como enfermedades autoinmunes. Por otro lado, si es demasiado débil, no puede proteger adecuadamente al cuerpo.\n",
      "\n",
      "En resumen, el sistema inmunológico es un conjunto complejo y altamente coordinado de defensas que trabajan para mantenernos saludables. ¡Espero que esto te ayude a entenderlo mejor! ¿Tienes alguna otra pregunta sobre el tema?\n"
     ]
    }
   ],
   "source": [
    "query = \"Explícame cómo funciona el sistema inmunológico\"\n",
    "prompt = HumanMessage(\n",
    "   content=custom_prompt_Content_Stopwords(query)\n",
    ")\n",
    "\n",
    "messages.append(prompt)\n",
    "res = chat.invoke(messages)\n",
    "print(res.content)"
   ]
  },
  {
   "cell_type": "code",
   "execution_count": 23,
   "id": "0148dc91-166b-4691-9ee9-5c91e6b1b32b",
   "metadata": {},
   "outputs": [
    {
     "name": "stdout",
     "output_type": "stream",
     "text": [
      "\"Cien años de soledad\" fue escrito por Gabriel García Márquez. Es una de las obras más importantes de la literatura latinoamericana y se considera un clásico del realismo mágico. Si quieres saber más sobre el libro o su autor, ¡pregunta!\n"
     ]
    }
   ],
   "source": [
    "query = \"¿Quién escribió 'Cien años de soledad'?\"\n",
    "prompt = HumanMessage(\n",
    "   content=custom_prompt_Content_Stopwords(query)\n",
    ")\n",
    "\n",
    "messages.append(prompt)\n",
    "res = chat.invoke(messages)\n",
    "print(res.content)"
   ]
  },
  {
   "cell_type": "code",
   "execution_count": 24,
   "id": "e62c72bb-7fa6-49f1-87dc-f5dea57b94f3",
   "metadata": {},
   "outputs": [
    {
     "name": "stdout",
     "output_type": "stream",
     "text": [
      "La ecuación más famosa de la teoría de la relatividad de Einstein es \\(E=mc^2\\), que establece que la energía (E) es igual a la masa (m) multiplicada por la velocidad de la luz (c) al cuadrado. Esta fórmula implica que la masa y la energía son intercambiables y que pequeñas cantidades de masa pueden convertirse en grandes cantidades de energía. ¡Es un concepto fascinante que revolucionó nuestra comprensión del universo!\n"
     ]
    }
   ],
   "source": [
    "query = \"¿Cuál es la ecuación de la teoría de la relatividad?\"\n",
    "prompt = HumanMessage(\n",
    "   content=custom_prompt_Content_Stopwords(query)\n",
    ")\n",
    "\n",
    "messages.append(prompt)\n",
    "res = chat.invoke(messages)\n",
    "print(res.content)"
   ]
  },
  {
   "cell_type": "code",
   "execution_count": 25,
   "id": "4298fe2a-6520-499b-9a40-b0cf87abc93b",
   "metadata": {},
   "outputs": [
    {
     "name": "stdout",
     "output_type": "stream",
     "text": [
      "Claro, aquí va un resumen de la trama de \"El Señor de los Anillos\":\n",
      "\n",
      "La historia sigue a un hobbit llamado Frodo Bolsón, quien hereda un anillo mágico de su tío Bilbo. Sin embargo, este anillo es en realidad el Anillo Único, forjado por el oscuro señor Sauron para controlar a todos los demás anillos de poder. Sauron busca recuperar el anillo para dominar la Tierra Media. \n",
      "\n",
      "Frodo, consciente del peligro que representa el anillo, se embarca en una misión para destruirlo. Para ello, se une a un grupo diverso conocido como la Comunidad del Anillo, que incluye a sus amigos hobbits Sam, Merry y Pippin, el mago Gandalf, el guerrero Aragorn, el elfo Legolas, el enano Gimli y el hombre Boromir. \n",
      "\n",
      "A lo largo de su viaje, enfrentan múltiples desafíos, incluyendo la traición, la lucha contra criaturas malignas y la tentación del propio anillo. Frodo y Sam se aventuran hacia el Monte del Destino, el único lugar donde el anillo puede ser destruido. Mientras tanto, Aragorn, Legolas y Gimli luchan para proteger a la Tierra Media de las fuerzas de Sauron.\n",
      "\n",
      "La historia está llena de temas de amistad, sacrificio y la lucha entre el bien y el mal, culminando en una batalla épica por el futuro de la Tierra Media. Al final, Frodo logra llegar al Monte del Destino, pero no sin enfrentar una lucha interna con el poder del anillo. Aunque el anillo es finalmente destruido, Frodo y sus amigos deben lidiar con las consecuencias de su viaje y las cicatrices que han dejado en ellos.\n",
      "\n",
      "Es una historia épica sobre la perseverancia y la esperanza en tiempos oscuros. ¡Espero que te guste!\n"
     ]
    }
   ],
   "source": [
    "query = \"¿Puedes resumir la trama de 'El Señor de los Anillos'?\"\n",
    "prompt = HumanMessage(\n",
    "   content=custom_prompt_Content_Stopwords(query)\n",
    ")\n",
    "\n",
    "messages.append(prompt)\n",
    "res = chat.invoke(messages)\n",
    "print(res.content)"
   ]
  },
  {
   "cell_type": "code",
   "execution_count": 26,
   "id": "987e49b8-c600-4147-b757-c4c97fdfd4a6",
   "metadata": {},
   "outputs": [
    {
     "name": "stdout",
     "output_type": "stream",
     "text": [
      "¡Claro! Hacer un buen café puede ser todo un arte, pero aquí te dejo una receta sencilla que te ayudará a disfrutar de una deliciosa taza:\n",
      "\n",
      "1. **Elige el café**: Opta por granos de café de buena calidad. Puedes elegir entre diferentes tipos de café, como arábica o robusta, dependiendo de tu preferencia. Asegúrate de que sean frescos.\n",
      "\n",
      "2. **Muele los granos**: Si tienes granos enteros, muele suficiente café para una o dos tazas justo antes de preparar el café. Lo ideal es un molido medio para la mayoría de los métodos de preparación.\n",
      "\n",
      "3. **Proporción**: Usa aproximadamente 1 a 2 cucharadas de café molido por cada 6 onzas de agua. Ajusta según tu gusto personal.\n",
      "\n",
      "4. **Agua**: Utiliza agua filtrada o mineral para mejorar el sabor. Calienta el agua hasta que esté justo antes de hervir (alrededor de 200 °F o 93 °C).\n",
      "\n",
      "5. **Método de preparación**: Hay muchos métodos para hacer café, como la prensa francesa, la cafetera de goteo, la cafetera italiana (moka) o el método pour-over. Elige el que prefieras:\n",
      "   - **Prensa francesa**: Agrega el café molido al fondo de la prensa, vierte el agua caliente y deja reposar durante 4 minutos. Luego, presiona el émbolo hacia abajo y sirve.\n",
      "   - **Cafetera de goteo**: Simplemente sigue las instrucciones de tu cafetera, asegurándote de que el agua esté caliente.\n",
      "   - **Cafetera italiana**: Llena la parte inferior con agua y agrega el café molido en el filtro. Cocina a fuego medio hasta que el café empiece a salir.\n",
      "\n",
      "6. **Servir**: Una vez que el café esté listo, sírvelo en tu taza favorita. Puedes disfrutarlo solo o con leche, crema, azúcar o especias como canela o vainilla, según tu preferencia.\n",
      "\n",
      "7. **Disfruta**: ¡Tómate un momento para disfrutar de tu café! Puedes acompañarlo con un buen libro, una conversación o simplemente en silencio para saborear el momento.\n",
      "\n",
      "Recuerda, la clave está en experimentar hasta encontrar la mezcla y el método que más te guste. ¡Buen café! ☕🌟\n"
     ]
    }
   ],
   "source": [
    "query = \"¿Cómo se prepara un buen café?\"\n",
    "prompt = HumanMessage(\n",
    "   content=custom_prompt_Content_Stopwords(query)\n",
    ")\n",
    "\n",
    "messages.append(prompt)\n",
    "res = chat.invoke(messages)\n",
    "print(res.content)"
   ]
  },
  {
   "cell_type": "code",
   "execution_count": 27,
   "id": "5dd9a163-4dc2-4c4b-96d6-663bafe91fb3",
   "metadata": {},
   "outputs": [
    {
     "name": "stdout",
     "output_type": "stream",
     "text": [
      "La fotosíntesis es el proceso mediante el cual las plantas, algas y algunas bacterias convierten la luz solar en energía química. A través de este proceso, utilizan dióxido de carbono del aire y agua del suelo para producir glucosa y oxígeno. La glucosa sirve como fuente de energía y como un componente esencial para el crecimiento de la planta. En términos simples, la fotosíntesis permite a las plantas \"comer\" luz y crear su propio alimento, lo que es fundamental para la vida en la Tierra, ya que también produce el oxígeno que respiramos.\n"
     ]
    }
   ],
   "source": [
    "query = \"¿Qué es la fotosíntesis?\"\n",
    "prompt = HumanMessage(\n",
    "   content=custom_prompt_Content_Stopwords(query)\n",
    ")\n",
    "\n",
    "messages.append(prompt)\n",
    "res = chat.invoke(messages)\n",
    "print(res.content)"
   ]
  },
  {
   "cell_type": "code",
   "execution_count": 28,
   "id": "82c24848-2a17-4a1a-822e-4ab44d042685",
   "metadata": {},
   "outputs": [
    {
     "name": "stdout",
     "output_type": "stream",
     "text": [
      "¡Claro! Aunque no tengo preferencias personales, puedo ayudarte a pensar en cómo podrías responder esa pregunta. Podrías decir algo como:\n",
      "\n",
      "\"Una de mis canciones favoritas es 'Imagine' de John Lennon. Me encanta porque transmite un mensaje poderoso de paz y unidad en un mundo lleno de divisiones. La melodía es hermosa y me hace reflexionar sobre la posibilidad de un mundo mejor. Además, las letras me inspiran a soñar y a trabajar por un futuro más armonioso.\"\n",
      "\n",
      "Así que, si tienes una canción favorita, podrías compartir algo similar sobre por qué te gusta. ¡Espero que esto te ayude!\n"
     ]
    }
   ],
   "source": [
    "query = \"¿Cuál es tu canción favorita y por qué?\"\n",
    "prompt = HumanMessage(\n",
    "   content=custom_prompt_Content_Stopwords(query)\n",
    ")\n",
    "\n",
    "messages.append(prompt)\n",
    "res = chat.invoke(messages)\n",
    "print(res.content)"
   ]
  },
  {
   "cell_type": "code",
   "execution_count": 29,
   "id": "1d8dc5ac-10d7-4dc6-a10f-845e07afabb1",
   "metadata": {},
   "outputs": [
    {
     "name": "stdout",
     "output_type": "stream",
     "text": [
      "¡Claro! Aquí va un consejo sobre cómo superar el miedo a hablar en público: \n",
      "\n",
      "Primero, es importante aceptar que es completamente normal sentirse nervioso. La clave está en cambiar tu mentalidad hacia el miedo. En lugar de pensar en lo que podría salir mal, enfócate en el mensaje que deseas transmitir y en cómo puedes conectar con tu audiencia. \n",
      "\n",
      "Además, puedes practicar la técnica del \"sí, y...\" que se menciona en uno de los contextos. Esto te ayudará a mantener la mente abierta y receptiva. Por ejemplo, si te sientes nervioso, puedes decirte a ti mismo: \"Sí, estoy nervioso, y eso está bien porque estoy aquí para compartir algo valioso\". \n",
      "\n",
      "Finalmente, asegúrate de prepararte bien y practicar repetidamente. Cuanto más familiarizado estés con tu material, más confianza tendrás. Y recuerda, incluso los mejores oradores han tenido miedo en algún momento, pero han aprendido a manejarlo y a usarlo a su favor. ¡Así que adelante, tú puedes hacerlo!\n"
     ]
    }
   ],
   "source": [
    "query = \"Dame un consejo sobre cómo superar el miedo a hablar en público\"\n",
    "prompt = HumanMessage(\n",
    "   content=custom_prompt_Content_Stopwords(query)\n",
    ")\n",
    "\n",
    "messages.append(prompt)\n",
    "res = chat.invoke(messages)\n",
    "print(res.content)"
   ]
  }
 ],
 "metadata": {
  "kernelspec": {
   "display_name": "Python 3 (ipykernel)",
   "language": "python",
   "name": "python3"
  },
  "language_info": {
   "codemirror_mode": {
    "name": "ipython",
    "version": 3
   },
   "file_extension": ".py",
   "mimetype": "text/x-python",
   "name": "python",
   "nbconvert_exporter": "python",
   "pygments_lexer": "ipython3",
   "version": "3.12.4"
  }
 },
 "nbformat": 4,
 "nbformat_minor": 5
}

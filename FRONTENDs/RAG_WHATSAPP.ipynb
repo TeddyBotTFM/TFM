{
 "cells": [
  {
   "cell_type": "code",
   "execution_count": null,
   "id": "05f2720a",
   "metadata": {},
   "outputs": [],
   "source": [
    "#Este código está disponible en formato .ipynb para facilitar la comprensión y la ejecución en entornos locales.\n",
    "#Si se desea implementar en un servidor online, es necesario convertir los archivos a formato .py para su ejecución.\n",
    "\n",
    "import os\n",
    "from twilio.rest import Client\n",
    "from langchain_openai import ChatOpenAI\n",
    "from qdrant_client import QdrantClient\n",
    "from sentence_transformers import SentenceTransformer\n",
    "from langchain.schema import SystemMessage, HumanMessage, AIMessage\n",
    "from flask import Flask, request, jsonify\n",
    "import threading\n",
    "import time\n",
    "from dotenv import load_dotenv\n",
    "\n",
    "# Cargar las variables de entorno desde el archivo .env\n",
    "load_dotenv()"
   ]
  },
  {
   "cell_type": "code",
   "execution_count": null,
   "id": "cbc88997",
   "metadata": {},
   "outputs": [],
   "source": [
    "#Iniciamos el cliente de Twilio\n",
    "client = Client(os.getenv(\"account_sid\"), os.getenv(\"auth_token\"))"
   ]
  },
  {
   "cell_type": "code",
   "execution_count": null,
   "id": "a0a60fc6",
   "metadata": {
    "lines_to_next_cell": 1
   },
   "outputs": [],
   "source": [
    "# Configuración de ChatOpenAI\n",
    "chat = ChatOpenAI(\n",
    "    model='gpt-4o-mini',\n",
    "    temperature=0.7\n",
    ")"
   ]
  },
  {
   "cell_type": "code",
   "execution_count": null,
   "id": "c593af5d",
   "metadata": {
    "lines_to_next_cell": 1
   },
   "outputs": [],
   "source": [
    "# Función principal para manejar las consultas\n",
    "def handle_query(query: str, use_stopwords: bool):\n",
    "    collection_name = \"OnlyContent_withStopwords\" if use_stopwords else \"OnlyContent_withoutStopwords\"\n",
    "    prompt = HumanMessage(content=custom_prompt(query, collection_name))\n",
    "    messages = [\n",
    "        SystemMessage(content=\"You are a motivational assistant with a warm and informal tone. Your primary focus is to provide motivation and encouragement. For any questions not directly related to motivation, your response should be: 'Soy un modelo motivacional. Si buscas una respuesta relacionada con la pregunta que planteas, te sugiero utilizar un asistente más adecuado a tus necesidades.' Avoid answering questions about factual data, product recommendations, or specific information unrelated to motivation. Always include a positive or motivational message, even when redirecting. If you don´t find anything in source_knowledge you have to answer 'Lo siento no dispongo de información al respecto'.\"),\n",
    "        HumanMessage(content=\"Hi AI, how are you today?\"),\n",
    "        AIMessage(content=\"I'm great, thank you! I'm here to motivate and inspire you. How can I help you feel more empowered today?\"),\n",
    "        HumanMessage(content=\"I'd like to know how to be happy.\"),\n",
    "        prompt\n",
    "    ]\n",
    "    res = chat.invoke(messages)\n",
    "    return res.content"
   ]
  },
  {
   "cell_type": "code",
   "execution_count": null,
   "id": "4c76e811",
   "metadata": {},
   "outputs": [],
   "source": [
    "# Configuración del cliente Qdrant\n",
    "qdrant = QdrantClient(url=os.getenv(\"QDRANT_URL\"), api_key=os.getenv(\"QDRANT_KEY\"))"
   ]
  },
  {
   "cell_type": "code",
   "execution_count": null,
   "id": "2790e9d1",
   "metadata": {
    "lines_to_next_cell": 1
   },
   "outputs": [],
   "source": [
    "# Configuración del modelo de embeddings\n",
    "embeddings_model = SentenceTransformer('sentence-transformers/paraphrase-multilingual-mpnet-base-v2')"
   ]
  },
  {
   "cell_type": "code",
   "execution_count": null,
   "id": "74738b7c",
   "metadata": {
    "lines_to_next_cell": 1
   },
   "outputs": [],
   "source": [
    "# Función para construir el prompt y manejar la consulta\n",
    "def custom_prompt(query: str, collection_name: str):\n",
    "    # Generación del embedding de la consulta\n",
    "    query_embedding = embeddings_model.encode([query])[0].tolist()\n",
    "\n",
    "    # Búsqueda en Qdrant\n",
    "    results = qdrant.search(\n",
    "        collection_name=collection_name,\n",
    "        query_vector=query_embedding,\n",
    "        limit=3\n",
    "    )\n",
    "    source_knowledge = \"\\n\".join([result.payload.get(\"text\", \"No text available\") for result in results])\n",
    "    augment_prompt = f\"\"\"Using the contexts below, answer the query:\n",
    "    Contexts:\n",
    "    {source_knowledge}\n",
    "    Query: {query}\"\"\"\n",
    "    return augment_prompt"
   ]
  },
  {
   "cell_type": "code",
   "execution_count": null,
   "id": "75a7941a",
   "metadata": {
    "lines_to_next_cell": 1
   },
   "outputs": [],
   "source": [
    "# Funciones para enviar y recibir mensajes\n",
    "def send_whatsapp_message(to, body):\n",
    "\n",
    "    try:\n",
    "        # Enviar el mensaje con Twilio\n",
    "        message = client.messages.create(\n",
    "            body=body,\n",
    "            from_=f'whatsapp:{os.getenv(\"twilio_number\")}',\n",
    "            to=f'{to}'\n",
    "        )\n",
    "        return message.sid\n",
    "    except Exception as e:\n",
    "        print(f\"Error al enviar el mensaje: {e}\")\n",
    "        return None"
   ]
  },
  {
   "cell_type": "code",
   "execution_count": null,
   "id": "f4d48285",
   "metadata": {
    "lines_to_next_cell": 1
   },
   "outputs": [],
   "source": [
    "# Recibir y manejar mensajes de WhatsApp\n",
    "def receive_whatsapp_message(request):\n",
    "    incoming_msg = request.form.get('Body')\n",
    "    from_number = request.form.get('From')\n",
    "\n",
    "    # Manejo del comando 'start' o cualquier otro mensaje\n",
    "    if not incoming_msg or not from_number:\n",
    "        return jsonify({\"status\": \"no message or sender found\"}), 400\n",
    "\n",
    "    if incoming_msg.lower() == 'start':\n",
    "        welcome_message = \"¡Hola! Soy Teddy, tu bot motivacional. ¿En qué puedo ayudarte hoy?\"\n",
    "        send_whatsapp_message(from_number, welcome_message)\n",
    "        return jsonify({\"status\": \"message processed\"}), 200\n",
    "\n",
    "    else:\n",
    "        # Manejo de cualquier mensaje de texto\n",
    "        response = handle_query(incoming_msg, use_stopwords=True)  # Usando la BBDD con stopwords\n",
    "        send_whatsapp_message(from_number, response)\n",
    "        return jsonify({\"status\": \"message not processed\"}), 200"
   ]
  },
  {
   "cell_type": "code",
   "execution_count": null,
   "id": "76073b8e",
   "metadata": {},
   "outputs": [],
   "source": [
    "app = Flask(__name__)"
   ]
  },
  {
   "cell_type": "markdown",
   "id": "66dcc968",
   "metadata": {},
   "source": [
    "Ruta para recibir mensajes desde WhatsApp (Twilio Webhook)"
   ]
  },
  {
   "cell_type": "code",
   "execution_count": null,
   "id": "4681d1f4",
   "metadata": {
    "lines_to_next_cell": 1
   },
   "outputs": [],
   "source": [
    "@app.route('/webhook', methods=['POST'])\n",
    "def webhook():\n",
    "    return receive_whatsapp_message(request)"
   ]
  },
  {
   "cell_type": "code",
   "execution_count": null,
   "id": "efae4545",
   "metadata": {
    "lines_to_next_cell": 1
   },
   "outputs": [],
   "source": [
    "def run_flask():\n",
    "  app.run(host=\"0.0.0.0\", port=4000)"
   ]
  },
  {
   "cell_type": "code",
   "execution_count": null,
   "id": "54e408b7",
   "metadata": {},
   "outputs": [],
   "source": [
    "def run_localtunnel():\n",
    "  time.sleep(5)\n",
    "  !lt --port 4000\n",
    "\n",
    "  # Iniciar Flask en un hilo separado\n",
    "flask_thread = threading.Thread(target=run_flask)\n",
    "flask_thread.start()"
   ]
  },
  {
   "cell_type": "code",
   "execution_count": null,
   "id": "9a957592",
   "metadata": {},
   "outputs": [],
   "source": [
    "localtunnel_thread = threading.Thread(target=run_localtunnel)\n",
    "localtunnel_thread.start()"
   ]
  },
  {
   "cell_type": "code",
   "execution_count": null,
   "id": "51e58583",
   "metadata": {
    "lines_to_next_cell": 2
   },
   "outputs": [],
   "source": [
    "!lt --port 4000"
   ]
  }
 ],
 "metadata": {
  "jupytext": {
   "cell_metadata_filter": "-all",
   "main_language": "python",
   "notebook_metadata_filter": "-all"
  },
  "kernelspec": {
   "display_name": "Python 3 (ipykernel)",
   "language": "python",
   "name": "python3"
  },
  "language_info": {
   "codemirror_mode": {
    "name": "ipython",
    "version": 3
   },
   "file_extension": ".py",
   "mimetype": "text/x-python",
   "name": "python",
   "nbconvert_exporter": "python",
   "pygments_lexer": "ipython3",
   "version": "3.12.4"
  }
 },
 "nbformat": 4,
 "nbformat_minor": 5
}
